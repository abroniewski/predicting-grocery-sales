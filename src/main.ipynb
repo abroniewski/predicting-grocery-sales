{
 "cells": [
  {
   "cell_type": "markdown",
   "source": [
    "# Pre-processing"
   ],
   "metadata": {
    "collapsed": false,
    "pycharm": {
     "name": "#%% md\n"
    }
   }
  },
  {
   "cell_type": "code",
   "execution_count": 68,
   "outputs": [],
   "source": [
    "import pandas as pd\n",
    "import matplotlib.pyplot as plt\n",
    "import datetime\n",
    "import numpy as np"
   ],
   "metadata": {
    "collapsed": false,
    "pycharm": {
     "name": "#%%\n"
    }
   }
  },
  {
   "cell_type": "code",
   "execution_count": 41,
   "outputs": [],
   "source": [
    "sales = pd.read_csv(\"../data/raw/sales.csv\", header=0, delimiter=\",\")\n",
    "sku = pd.read_csv(\"../data/raw/sku.csv\", header=0, delimiter=\",\")"
   ],
   "metadata": {
    "collapsed": false,
    "pycharm": {
     "name": "#%%\n"
    }
   }
  },
  {
   "cell_type": "code",
   "execution_count": 42,
   "outputs": [
    {
     "name": "stdout",
     "output_type": "stream",
     "text": [
      "           ID  geoCluster    SKU        date  price  sales\n",
      "0  RR27956459          92  32485  2021-07-05  38.29    4.0\n",
      "1  RR27956474          92  32549  2021-07-05  89.39    0.5\n",
      "2  RR27956489         112  32485  2021-05-27  45.39    3.7\n",
      "3  RR27956490         112  32485  2021-05-28    NaN    NaN\n",
      "4  RR27956491         112  32485  2021-05-29    NaN    NaN\n",
      "         geoCluster           SKU          price          sales\n",
      "count  4.605985e+06  4.605985e+06  778366.000000  778366.000000\n",
      "mean   2.220031e+03  3.671353e+05      67.490666       3.593748\n",
      "std    2.459249e+02  3.005135e+05      85.631611       4.627158\n",
      "min    9.200000e+01  2.400000e+01       0.000000       0.001000\n",
      "25%    2.049000e+03  3.946500e+04      24.190000       1.000000\n",
      "50%    2.158000e+03  3.637130e+05      38.490000       2.500000\n",
      "75%    2.269000e+03  6.427000e+05      61.890000       4.000000\n",
      "max    3.230000e+03  8.381370e+05    7246.890000     801.000000\n",
      "\n",
      "Shape of data is: (4605985, 6)\n",
      "Shape of data with dropna() is: (778366, 6)\n",
      "None\n",
      "columns: Index(['ID', 'geoCluster', 'SKU', 'date', 'price', 'sales'], dtype='object')\n",
      "<class 'pandas.core.frame.DataFrame'>\n",
      "RangeIndex: 4605985 entries, 0 to 4605984\n",
      "Data columns (total 6 columns):\n",
      " #   Column      Dtype  \n",
      "---  ------      -----  \n",
      " 0   ID          object \n",
      " 1   geoCluster  int64  \n",
      " 2   SKU         int64  \n",
      " 3   date        object \n",
      " 4   price       float64\n",
      " 5   sales       float64\n",
      "dtypes: float64(2), int64(2), object(2)\n",
      "memory usage: 210.8+ MB\n",
      "None\n",
      "False    4605330\n",
      "True         655\n",
      "Name: price, dtype: int64\n",
      "False    4605985\n",
      "Name: sales, dtype: int64\n"
     ]
    }
   ],
   "source": [
    "print(sales.head())\n",
    "print(sales.describe())\n",
    "print()\n",
    "print(f\"Shape of data is: {sales.shape}\")\n",
    "print(print(f\"Shape of data with dropna() is: {sales.dropna().shape}\"))\n",
    "print(f\"columns: {sales.columns}\")\n",
    "print(sales.info())\n",
    "print((sales.price==0).value_counts())\n",
    "print((sales.sales==0).value_counts())"
   ],
   "metadata": {
    "collapsed": false,
    "pycharm": {
     "name": "#%%\n"
    }
   }
  },
  {
   "cell_type": "code",
   "execution_count": 43,
   "outputs": [
    {
     "data": {
      "text/plain": "                    ID  geoCluster     SKU  price  sales\ndate                                                    \n2021-07-05  RR27956459          92   32485  38.29    4.0\n2021-07-05  RR27956474          92   32549  89.39    0.5\n2021-05-27  RR27956489         112   32485  45.39    3.7\n2021-05-28  RR27956490         112   32485    NaN    NaN\n2021-05-29  RR27956491         112   32485    NaN    NaN\n...                ...         ...     ...    ...    ...\n2021-07-01  RR55912525        3230  711838  28.49    5.0\n2021-07-02  RR55912526        3230  711838  28.49   11.0\n2021-07-03  RR55912527        3230  711838  28.49    2.0\n2021-07-04  RR55912528        3230  711838  28.49    6.0\n2021-07-05  RR55912529        3230  711838  28.49   13.0\n\n[4605985 rows x 5 columns]",
      "text/html": "<div>\n<style scoped>\n    .dataframe tbody tr th:only-of-type {\n        vertical-align: middle;\n    }\n\n    .dataframe tbody tr th {\n        vertical-align: top;\n    }\n\n    .dataframe thead th {\n        text-align: right;\n    }\n</style>\n<table border=\"1\" class=\"dataframe\">\n  <thead>\n    <tr style=\"text-align: right;\">\n      <th></th>\n      <th>ID</th>\n      <th>geoCluster</th>\n      <th>SKU</th>\n      <th>price</th>\n      <th>sales</th>\n    </tr>\n    <tr>\n      <th>date</th>\n      <th></th>\n      <th></th>\n      <th></th>\n      <th></th>\n      <th></th>\n    </tr>\n  </thead>\n  <tbody>\n    <tr>\n      <th>2021-07-05</th>\n      <td>RR27956459</td>\n      <td>92</td>\n      <td>32485</td>\n      <td>38.29</td>\n      <td>4.0</td>\n    </tr>\n    <tr>\n      <th>2021-07-05</th>\n      <td>RR27956474</td>\n      <td>92</td>\n      <td>32549</td>\n      <td>89.39</td>\n      <td>0.5</td>\n    </tr>\n    <tr>\n      <th>2021-05-27</th>\n      <td>RR27956489</td>\n      <td>112</td>\n      <td>32485</td>\n      <td>45.39</td>\n      <td>3.7</td>\n    </tr>\n    <tr>\n      <th>2021-05-28</th>\n      <td>RR27956490</td>\n      <td>112</td>\n      <td>32485</td>\n      <td>NaN</td>\n      <td>NaN</td>\n    </tr>\n    <tr>\n      <th>2021-05-29</th>\n      <td>RR27956491</td>\n      <td>112</td>\n      <td>32485</td>\n      <td>NaN</td>\n      <td>NaN</td>\n    </tr>\n    <tr>\n      <th>...</th>\n      <td>...</td>\n      <td>...</td>\n      <td>...</td>\n      <td>...</td>\n      <td>...</td>\n    </tr>\n    <tr>\n      <th>2021-07-01</th>\n      <td>RR55912525</td>\n      <td>3230</td>\n      <td>711838</td>\n      <td>28.49</td>\n      <td>5.0</td>\n    </tr>\n    <tr>\n      <th>2021-07-02</th>\n      <td>RR55912526</td>\n      <td>3230</td>\n      <td>711838</td>\n      <td>28.49</td>\n      <td>11.0</td>\n    </tr>\n    <tr>\n      <th>2021-07-03</th>\n      <td>RR55912527</td>\n      <td>3230</td>\n      <td>711838</td>\n      <td>28.49</td>\n      <td>2.0</td>\n    </tr>\n    <tr>\n      <th>2021-07-04</th>\n      <td>RR55912528</td>\n      <td>3230</td>\n      <td>711838</td>\n      <td>28.49</td>\n      <td>6.0</td>\n    </tr>\n    <tr>\n      <th>2021-07-05</th>\n      <td>RR55912529</td>\n      <td>3230</td>\n      <td>711838</td>\n      <td>28.49</td>\n      <td>13.0</td>\n    </tr>\n  </tbody>\n</table>\n<p>4605985 rows × 5 columns</p>\n</div>"
     },
     "execution_count": 43,
     "metadata": {},
     "output_type": "execute_result"
    }
   ],
   "source": [
    "sales[\"date\"] = sales[\"date\"].astype(\"datetime64\")\n",
    "sales = sales.set_index(\"date\")\n",
    "sales"
   ],
   "metadata": {
    "collapsed": false,
    "pycharm": {
     "name": "#%%\n"
    }
   }
  },
  {
   "cell_type": "markdown",
   "source": [
    "Sales is our target variable that we will want to predict."
   ],
   "metadata": {
    "collapsed": false,
    "pycharm": {
     "name": "#%% md\n"
    }
   }
  },
  {
   "cell_type": "code",
   "execution_count": 44,
   "outputs": [
    {
     "name": "stdout",
     "output_type": "stream",
     "text": [
      "     SKU                  Category  \\\n",
      "0     24               Pomegranate   \n",
      "1    208          Water, sparkling   \n",
      "2   1008  Water, import, sparkling   \n",
      "3  16649              Water, still   \n",
      "4  20872          Water, sparkling   \n",
      "\n",
      "                                            Type  brandId  lagerUnitQuantity  \\\n",
      "0            Tropical fruit — Pomegranate— Plain      NaN                1.0   \n",
      "1  Therapeutic-table water — PET — from 1 to 2 L   1241.0                1.5   \n",
      "2       Therapeutic-table water — Import — Glass   1241.0                0.5   \n",
      "3      Table water — PET — from 1 to 2 L — Still   1241.0                1.5   \n",
      "4  Therapeutic-table water — PET — from 1 to 2 L   2693.0                1.5   \n",
      "\n",
      "   Units  trademark  countryOfOrigin            Group  \n",
      "0    NaN        NaN              NaN  Tropical fruits  \n",
      "1    NaN     3670.0              1.0    Mineral water  \n",
      "2    NaN     4970.0             14.0    Mineral water  \n",
      "3    NaN     1323.0              1.0    Mineral water  \n",
      "4    NaN     4384.0              1.0    Mineral water  \n",
      "                 SKU      brandId  lagerUnitQuantity  Units     trademark  \\\n",
      "count      60.000000    32.000000          60.000000    0.0     49.000000   \n",
      "mean   386478.483333  3599.625000         129.254167    NaN   7092.285714   \n",
      "std    288483.152114  2648.397674         169.380298    NaN   4753.617202   \n",
      "min        24.000000   967.000000           0.500000    NaN    297.000000   \n",
      "25%     63214.000000  1330.000000           1.000000    NaN   2781.000000   \n",
      "50%    406352.500000  2737.000000           2.000000    NaN   6133.000000   \n",
      "75%    639679.750000  4677.500000         300.000000    NaN   9666.000000   \n",
      "max    838137.000000  8314.000000         550.000000    NaN  15156.000000   \n",
      "\n",
      "       countryOfOrigin  \n",
      "count        33.000000  \n",
      "mean          6.878788  \n",
      "std          10.361460  \n",
      "min           1.000000  \n",
      "25%           1.000000  \n",
      "50%           1.000000  \n",
      "75%          14.000000  \n",
      "max          37.000000  \n"
     ]
    }
   ],
   "source": [
    "print(sku.head())\n",
    "print(sku.describe())"
   ],
   "metadata": {
    "collapsed": false,
    "pycharm": {
     "name": "#%%\n"
    }
   }
  },
  {
   "cell_type": "code",
   "execution_count": 67,
   "outputs": [
    {
     "ename": "ValueError",
     "evalue": "x and y must be the same size",
     "output_type": "error",
     "traceback": [
      "\u001B[0;31m---------------------------------------------------------------------------\u001B[0m",
      "\u001B[0;31mValueError\u001B[0m                                Traceback (most recent call last)",
      "Input \u001B[0;32mIn [67]\u001B[0m, in \u001B[0;36m<cell line: 1>\u001B[0;34m()\u001B[0m\n\u001B[0;32m----> 1\u001B[0m \u001B[43mplt\u001B[49m\u001B[38;5;241;43m.\u001B[39;49m\u001B[43mscatter\u001B[49m\u001B[43m(\u001B[49m\u001B[43msales\u001B[49m\u001B[38;5;241;43m.\u001B[39;49m\u001B[43mindex\u001B[49m\u001B[43m,\u001B[49m\u001B[43m \u001B[49m\u001B[43msales\u001B[49m\u001B[38;5;241;43m.\u001B[39;49m\u001B[43mloc\u001B[49m\u001B[43m[\u001B[49m\u001B[43msales\u001B[49m\u001B[43m[\u001B[49m\u001B[38;5;124;43m\"\u001B[39;49m\u001B[38;5;124;43mSKU\u001B[39;49m\u001B[38;5;124;43m\"\u001B[39;49m\u001B[43m]\u001B[49m\u001B[38;5;241;43m==\u001B[39;49m\u001B[38;5;241;43m24\u001B[39;49m\u001B[43m,\u001B[49m\u001B[43m \u001B[49m\u001B[38;5;124;43m\"\u001B[39;49m\u001B[38;5;124;43msales\u001B[39;49m\u001B[38;5;124;43m\"\u001B[39;49m\u001B[43m]\u001B[49m\u001B[43m,\u001B[49m\u001B[43m \u001B[49m\u001B[43mmarker\u001B[49m\u001B[38;5;241;43m=\u001B[39;49m\u001B[38;5;124;43m\"\u001B[39;49m\u001B[38;5;124;43mo\u001B[39;49m\u001B[38;5;124;43m\"\u001B[39;49m\u001B[43m)\u001B[49m\n\u001B[1;32m      2\u001B[0m plt\u001B[38;5;241m.\u001B[39mxlabel(\u001B[38;5;124m\"\u001B[39m\u001B[38;5;124mDate\u001B[39m\u001B[38;5;124m\"\u001B[39m)\n\u001B[1;32m      3\u001B[0m plt\u001B[38;5;241m.\u001B[39mylabel(\u001B[38;5;124m\"\u001B[39m\u001B[38;5;124mSales\u001B[39m\u001B[38;5;124m\"\u001B[39m)\n",
      "File \u001B[0;32m~/Library/Python/3.9/lib/python/site-packages/matplotlib/pyplot.py:2807\u001B[0m, in \u001B[0;36mscatter\u001B[0;34m(x, y, s, c, marker, cmap, norm, vmin, vmax, alpha, linewidths, edgecolors, plotnonfinite, data, **kwargs)\u001B[0m\n\u001B[1;32m   2802\u001B[0m \u001B[38;5;129m@_copy_docstring_and_deprecators\u001B[39m(Axes\u001B[38;5;241m.\u001B[39mscatter)\n\u001B[1;32m   2803\u001B[0m \u001B[38;5;28;01mdef\u001B[39;00m \u001B[38;5;21mscatter\u001B[39m(\n\u001B[1;32m   2804\u001B[0m         x, y, s\u001B[38;5;241m=\u001B[39m\u001B[38;5;28;01mNone\u001B[39;00m, c\u001B[38;5;241m=\u001B[39m\u001B[38;5;28;01mNone\u001B[39;00m, marker\u001B[38;5;241m=\u001B[39m\u001B[38;5;28;01mNone\u001B[39;00m, cmap\u001B[38;5;241m=\u001B[39m\u001B[38;5;28;01mNone\u001B[39;00m, norm\u001B[38;5;241m=\u001B[39m\u001B[38;5;28;01mNone\u001B[39;00m,\n\u001B[1;32m   2805\u001B[0m         vmin\u001B[38;5;241m=\u001B[39m\u001B[38;5;28;01mNone\u001B[39;00m, vmax\u001B[38;5;241m=\u001B[39m\u001B[38;5;28;01mNone\u001B[39;00m, alpha\u001B[38;5;241m=\u001B[39m\u001B[38;5;28;01mNone\u001B[39;00m, linewidths\u001B[38;5;241m=\u001B[39m\u001B[38;5;28;01mNone\u001B[39;00m, \u001B[38;5;241m*\u001B[39m,\n\u001B[1;32m   2806\u001B[0m         edgecolors\u001B[38;5;241m=\u001B[39m\u001B[38;5;28;01mNone\u001B[39;00m, plotnonfinite\u001B[38;5;241m=\u001B[39m\u001B[38;5;28;01mFalse\u001B[39;00m, data\u001B[38;5;241m=\u001B[39m\u001B[38;5;28;01mNone\u001B[39;00m, \u001B[38;5;241m*\u001B[39m\u001B[38;5;241m*\u001B[39mkwargs):\n\u001B[0;32m-> 2807\u001B[0m     __ret \u001B[38;5;241m=\u001B[39m \u001B[43mgca\u001B[49m\u001B[43m(\u001B[49m\u001B[43m)\u001B[49m\u001B[38;5;241;43m.\u001B[39;49m\u001B[43mscatter\u001B[49m\u001B[43m(\u001B[49m\n\u001B[1;32m   2808\u001B[0m \u001B[43m        \u001B[49m\u001B[43mx\u001B[49m\u001B[43m,\u001B[49m\u001B[43m \u001B[49m\u001B[43my\u001B[49m\u001B[43m,\u001B[49m\u001B[43m \u001B[49m\u001B[43ms\u001B[49m\u001B[38;5;241;43m=\u001B[39;49m\u001B[43ms\u001B[49m\u001B[43m,\u001B[49m\u001B[43m \u001B[49m\u001B[43mc\u001B[49m\u001B[38;5;241;43m=\u001B[39;49m\u001B[43mc\u001B[49m\u001B[43m,\u001B[49m\u001B[43m \u001B[49m\u001B[43mmarker\u001B[49m\u001B[38;5;241;43m=\u001B[39;49m\u001B[43mmarker\u001B[49m\u001B[43m,\u001B[49m\u001B[43m \u001B[49m\u001B[43mcmap\u001B[49m\u001B[38;5;241;43m=\u001B[39;49m\u001B[43mcmap\u001B[49m\u001B[43m,\u001B[49m\u001B[43m \u001B[49m\u001B[43mnorm\u001B[49m\u001B[38;5;241;43m=\u001B[39;49m\u001B[43mnorm\u001B[49m\u001B[43m,\u001B[49m\n\u001B[1;32m   2809\u001B[0m \u001B[43m        \u001B[49m\u001B[43mvmin\u001B[49m\u001B[38;5;241;43m=\u001B[39;49m\u001B[43mvmin\u001B[49m\u001B[43m,\u001B[49m\u001B[43m \u001B[49m\u001B[43mvmax\u001B[49m\u001B[38;5;241;43m=\u001B[39;49m\u001B[43mvmax\u001B[49m\u001B[43m,\u001B[49m\u001B[43m \u001B[49m\u001B[43malpha\u001B[49m\u001B[38;5;241;43m=\u001B[39;49m\u001B[43malpha\u001B[49m\u001B[43m,\u001B[49m\u001B[43m \u001B[49m\u001B[43mlinewidths\u001B[49m\u001B[38;5;241;43m=\u001B[39;49m\u001B[43mlinewidths\u001B[49m\u001B[43m,\u001B[49m\n\u001B[1;32m   2810\u001B[0m \u001B[43m        \u001B[49m\u001B[43medgecolors\u001B[49m\u001B[38;5;241;43m=\u001B[39;49m\u001B[43medgecolors\u001B[49m\u001B[43m,\u001B[49m\u001B[43m \u001B[49m\u001B[43mplotnonfinite\u001B[49m\u001B[38;5;241;43m=\u001B[39;49m\u001B[43mplotnonfinite\u001B[49m\u001B[43m,\u001B[49m\n\u001B[1;32m   2811\u001B[0m \u001B[43m        \u001B[49m\u001B[38;5;241;43m*\u001B[39;49m\u001B[38;5;241;43m*\u001B[39;49m\u001B[43m(\u001B[49m\u001B[43m{\u001B[49m\u001B[38;5;124;43m\"\u001B[39;49m\u001B[38;5;124;43mdata\u001B[39;49m\u001B[38;5;124;43m\"\u001B[39;49m\u001B[43m:\u001B[49m\u001B[43m \u001B[49m\u001B[43mdata\u001B[49m\u001B[43m}\u001B[49m\u001B[43m \u001B[49m\u001B[38;5;28;43;01mif\u001B[39;49;00m\u001B[43m \u001B[49m\u001B[43mdata\u001B[49m\u001B[43m \u001B[49m\u001B[38;5;129;43;01mis\u001B[39;49;00m\u001B[43m \u001B[49m\u001B[38;5;129;43;01mnot\u001B[39;49;00m\u001B[43m \u001B[49m\u001B[38;5;28;43;01mNone\u001B[39;49;00m\u001B[43m \u001B[49m\u001B[38;5;28;43;01melse\u001B[39;49;00m\u001B[43m \u001B[49m\u001B[43m{\u001B[49m\u001B[43m}\u001B[49m\u001B[43m)\u001B[49m\u001B[43m,\u001B[49m\u001B[43m \u001B[49m\u001B[38;5;241;43m*\u001B[39;49m\u001B[38;5;241;43m*\u001B[39;49m\u001B[43mkwargs\u001B[49m\u001B[43m)\u001B[49m\n\u001B[1;32m   2812\u001B[0m     sci(__ret)\n\u001B[1;32m   2813\u001B[0m     \u001B[38;5;28;01mreturn\u001B[39;00m __ret\n",
      "File \u001B[0;32m~/Library/Python/3.9/lib/python/site-packages/matplotlib/__init__.py:1412\u001B[0m, in \u001B[0;36m_preprocess_data.<locals>.inner\u001B[0;34m(ax, data, *args, **kwargs)\u001B[0m\n\u001B[1;32m   1409\u001B[0m \u001B[38;5;129m@functools\u001B[39m\u001B[38;5;241m.\u001B[39mwraps(func)\n\u001B[1;32m   1410\u001B[0m \u001B[38;5;28;01mdef\u001B[39;00m \u001B[38;5;21minner\u001B[39m(ax, \u001B[38;5;241m*\u001B[39margs, data\u001B[38;5;241m=\u001B[39m\u001B[38;5;28;01mNone\u001B[39;00m, \u001B[38;5;241m*\u001B[39m\u001B[38;5;241m*\u001B[39mkwargs):\n\u001B[1;32m   1411\u001B[0m     \u001B[38;5;28;01mif\u001B[39;00m data \u001B[38;5;129;01mis\u001B[39;00m \u001B[38;5;28;01mNone\u001B[39;00m:\n\u001B[0;32m-> 1412\u001B[0m         \u001B[38;5;28;01mreturn\u001B[39;00m \u001B[43mfunc\u001B[49m\u001B[43m(\u001B[49m\u001B[43max\u001B[49m\u001B[43m,\u001B[49m\u001B[43m \u001B[49m\u001B[38;5;241;43m*\u001B[39;49m\u001B[38;5;28;43mmap\u001B[39;49m\u001B[43m(\u001B[49m\u001B[43msanitize_sequence\u001B[49m\u001B[43m,\u001B[49m\u001B[43m \u001B[49m\u001B[43margs\u001B[49m\u001B[43m)\u001B[49m\u001B[43m,\u001B[49m\u001B[43m \u001B[49m\u001B[38;5;241;43m*\u001B[39;49m\u001B[38;5;241;43m*\u001B[39;49m\u001B[43mkwargs\u001B[49m\u001B[43m)\u001B[49m\n\u001B[1;32m   1414\u001B[0m     bound \u001B[38;5;241m=\u001B[39m new_sig\u001B[38;5;241m.\u001B[39mbind(ax, \u001B[38;5;241m*\u001B[39margs, \u001B[38;5;241m*\u001B[39m\u001B[38;5;241m*\u001B[39mkwargs)\n\u001B[1;32m   1415\u001B[0m     auto_label \u001B[38;5;241m=\u001B[39m (bound\u001B[38;5;241m.\u001B[39marguments\u001B[38;5;241m.\u001B[39mget(label_namer)\n\u001B[1;32m   1416\u001B[0m                   \u001B[38;5;129;01mor\u001B[39;00m bound\u001B[38;5;241m.\u001B[39mkwargs\u001B[38;5;241m.\u001B[39mget(label_namer))\n",
      "File \u001B[0;32m~/Library/Python/3.9/lib/python/site-packages/matplotlib/axes/_axes.py:4369\u001B[0m, in \u001B[0;36mAxes.scatter\u001B[0;34m(self, x, y, s, c, marker, cmap, norm, vmin, vmax, alpha, linewidths, edgecolors, plotnonfinite, **kwargs)\u001B[0m\n\u001B[1;32m   4367\u001B[0m y \u001B[38;5;241m=\u001B[39m np\u001B[38;5;241m.\u001B[39mma\u001B[38;5;241m.\u001B[39mravel(y)\n\u001B[1;32m   4368\u001B[0m \u001B[38;5;28;01mif\u001B[39;00m x\u001B[38;5;241m.\u001B[39msize \u001B[38;5;241m!=\u001B[39m y\u001B[38;5;241m.\u001B[39msize:\n\u001B[0;32m-> 4369\u001B[0m     \u001B[38;5;28;01mraise\u001B[39;00m \u001B[38;5;167;01mValueError\u001B[39;00m(\u001B[38;5;124m\"\u001B[39m\u001B[38;5;124mx and y must be the same size\u001B[39m\u001B[38;5;124m\"\u001B[39m)\n\u001B[1;32m   4371\u001B[0m \u001B[38;5;28;01mif\u001B[39;00m s \u001B[38;5;129;01mis\u001B[39;00m \u001B[38;5;28;01mNone\u001B[39;00m:\n\u001B[1;32m   4372\u001B[0m     s \u001B[38;5;241m=\u001B[39m (\u001B[38;5;241m20\u001B[39m \u001B[38;5;28;01mif\u001B[39;00m rcParams[\u001B[38;5;124m'\u001B[39m\u001B[38;5;124m_internal.classic_mode\u001B[39m\u001B[38;5;124m'\u001B[39m] \u001B[38;5;28;01melse\u001B[39;00m\n\u001B[1;32m   4373\u001B[0m          rcParams[\u001B[38;5;124m'\u001B[39m\u001B[38;5;124mlines.markersize\u001B[39m\u001B[38;5;124m'\u001B[39m] \u001B[38;5;241m*\u001B[39m\u001B[38;5;241m*\u001B[39m \u001B[38;5;241m2.0\u001B[39m)\n",
      "\u001B[0;31mValueError\u001B[0m: x and y must be the same size"
     ]
    },
    {
     "data": {
      "text/plain": "<Figure size 432x288 with 1 Axes>",
      "image/png": "[encoded data removed]"
     },
     "metadata": {
      "needs_background": "light"
     },
     "output_type": "display_data"
    }
   ],
   "source": [
    "fig = plt.figure(figsize=(12,8))\n",
    "\n",
    "plt.plot(sales.date, sales.loc[sales[\"SKU\"]==24, \"sales\"], label=\"SKU24\", linewidth=3)\n",
    "\n",
    "plt.xlabel(\"Date\")\n",
    "plt.ylabel(\"Sales\")\n",
    "plt.title(\"Sales of Different Items\")\n",
    "\n",
    "plt.show()"
   ],
   "metadata": {
    "collapsed": false,
    "pycharm": {
     "name": "#%%\n"
    }
   }
  },
  {
   "cell_type": "code",
   "execution_count": 62,
   "outputs": [
    {
     "data": {
      "text/plain": "date\n2021-03-03    0.4\n2021-03-04    NaN\n2021-03-05    NaN\n2021-03-06    NaN\n2021-03-07    NaN\n             ... \n2021-07-02    NaN\n2021-07-03    NaN\n2021-07-04    NaN\n2021-07-05    NaN\n2021-07-05    1.6\nName: sales, Length: 73388, dtype: float64"
     },
     "execution_count": 62,
     "metadata": {},
     "output_type": "execute_result"
    }
   ],
   "source": [
    "sales.loc[sales[\"SKU\"]==24, \"sales\"]"
   ],
   "metadata": {
    "collapsed": false,
    "pycharm": {
     "name": "#%%\n"
    }
   }
  },
  {
   "cell_type": "code",
   "execution_count": 52,
   "outputs": [
    {
     "data": {
      "text/plain": "date\n2021-07-05    False\n2021-07-05    False\n2021-05-27    False\n2021-05-28    False\n2021-05-29    False\n              ...  \n2021-07-01    False\n2021-07-02    False\n2021-07-03    False\n2021-07-04    False\n2021-07-05    False\nName: SKU, Length: 4605985, dtype: bool"
     },
     "execution_count": 52,
     "metadata": {},
     "output_type": "execute_result"
    }
   ],
   "source": [
    "sales[\"SKU\"]==24"
   ],
   "metadata": {
    "collapsed": false,
    "pycharm": {
     "name": "#%%\n"
    }
   }
  },
  {
   "cell_type": "code",
   "execution_count": 51,
   "outputs": [
    {
     "data": {
      "text/plain": "                    ID  geoCluster    SKU  price  sales\ndate                                                   \n2021-07-05  RR27956459          92  32485  38.29    4.0\n2021-07-05  RR27956474          92  32549  89.39    0.5\n2021-05-27  RR27956489         112  32485  45.39    3.7\n2021-05-28  RR27956490         112  32485    NaN    NaN\n2021-05-29  RR27956491         112  32485    NaN    NaN",
      "text/html": "<div>\n<style scoped>\n    .dataframe tbody tr th:only-of-type {\n        vertical-align: middle;\n    }\n\n    .dataframe tbody tr th {\n        vertical-align: top;\n    }\n\n    .dataframe thead th {\n        text-align: right;\n    }\n</style>\n<table border=\"1\" class=\"dataframe\">\n  <thead>\n    <tr style=\"text-align: right;\">\n      <th></th>\n      <th>ID</th>\n      <th>geoCluster</th>\n      <th>SKU</th>\n      <th>price</th>\n      <th>sales</th>\n    </tr>\n    <tr>\n      <th>date</th>\n      <th></th>\n      <th></th>\n      <th></th>\n      <th></th>\n      <th></th>\n    </tr>\n  </thead>\n  <tbody>\n    <tr>\n      <th>2021-07-05</th>\n      <td>RR27956459</td>\n      <td>92</td>\n      <td>32485</td>\n      <td>38.29</td>\n      <td>4.0</td>\n    </tr>\n    <tr>\n      <th>2021-07-05</th>\n      <td>RR27956474</td>\n      <td>92</td>\n      <td>32549</td>\n      <td>89.39</td>\n      <td>0.5</td>\n    </tr>\n    <tr>\n      <th>2021-05-27</th>\n      <td>RR27956489</td>\n      <td>112</td>\n      <td>32485</td>\n      <td>45.39</td>\n      <td>3.7</td>\n    </tr>\n    <tr>\n      <th>2021-05-28</th>\n      <td>RR27956490</td>\n      <td>112</td>\n      <td>32485</td>\n      <td>NaN</td>\n      <td>NaN</td>\n    </tr>\n    <tr>\n      <th>2021-05-29</th>\n      <td>RR27956491</td>\n      <td>112</td>\n      <td>32485</td>\n      <td>NaN</td>\n      <td>NaN</td>\n    </tr>\n  </tbody>\n</table>\n</div>"
     },
     "execution_count": 51,
     "metadata": {},
     "output_type": "execute_result"
    }
   ],
   "source": [
    "sales.head()"
   ],
   "metadata": {
    "collapsed": false,
    "pycharm": {
     "name": "#%%\n"
    }
   }
  },
  {
   "cell_type": "code",
   "execution_count": null,
   "outputs": [],
   "source": [],
   "metadata": {
    "collapsed": false,
    "pycharm": {
     "name": "#%%\n"
    }
   }
  }
 ],
 "metadata": {
  "kernelspec": {
   "display_name": "Python 3",
   "language": "python",
   "name": "python3"
  },
  "language_info": {
   "codemirror_mode": {
    "name": "ipython",
    "version": 2
   },
   "file_extension": ".py",
   "mimetype": "text/x-python",
   "name": "python",
   "nbconvert_exporter": "python",
   "pygments_lexer": "ipython2",
   "version": "2.7.6"
  }
 },
 "nbformat": 4,
 "nbformat_minor": 0
}