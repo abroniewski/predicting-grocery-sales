{
 "cells": [
  {
   "cell_type": "code",
   "execution_count": 27,
   "id": "1afff707",
   "metadata": {},
   "outputs": [],
   "source": [
    "import numpy as np \n",
    "import pandas as pd\n",
    "\n",
    "from sklearn.model_selection import train_test_split,  KFold, cross_val_score\n",
    "from sklearn.linear_model import LinearRegression, LogisticRegressionCV, Ridge, RidgeCV, Lasso, LassoCV\n",
    "from sklearn.metrics import mean_squared_error, r2_score, accuracy_score\n",
    "from sklearn.preprocessing import MinMaxScaler\n",
    "from sklearn.neural_network import MLPRegressor\n",
    "from sklearn.preprocessing import StandardScaler\n",
    "\n",
    "from copy import copy\n",
    "import seaborn as sns\n",
    "import matplotlib.pyplot as plt"
   ]
  },
  {
   "cell_type": "markdown",
   "id": "d7bcbb12",
   "metadata": {},
   "source": [
    "### Structure of the problem task is:\n",
    "X \n",
    "    - ['date', 'SKU', 'Category', 'geoCluster', 'Group', 'price']\n",
    "\n",
    "Y\n",
    "    - ['qty']\n"
   ]
  },
  {
   "cell_type": "code",
   "execution_count": 2,
   "id": "db2a1d49",
   "metadata": {},
   "outputs": [],
   "source": [
    "def apply_lr_ridge_lasso(sales):\n",
    "    sales[\"year\"] = sales.date.apply(lambda x: x.year)\n",
    "    sales[\"month\"] = sales.date.apply(lambda x: x.month)\n",
    "    sales[\"week\"] = sales.date.apply(lambda x: x.week)\n",
    "    sales[\"day_of_week\"] = sales.date.apply(lambda x: x.dayofweek)\n",
    "    sales = sales.drop(\"date\", axis=\"columns\")\n",
    "\n",
    "    # Convert categorical to numeric\n",
    "    category = sales.Category.unique()\n",
    "    category = zip(category, np.random.randint(1000,9999, size=(len(category))))\n",
    "    category = dict(category)\n",
    "    sales.replace({\"Category\": category}, inplace=True)\n",
    "\n",
    "    group = sales.Group.unique()\n",
    "    group = zip(group, np.random.randint(1000,9999, size=(len(group))))\n",
    "    group= dict(group)\n",
    "    sales.replace({\"Group\": group}, inplace=True)\n",
    "\n",
    "    # Split dataset\n",
    "    X = sales.loc[:, sales.columns != 'qty']\n",
    "    y = sales['qty']\n",
    "    X_train, X_test, y_train, y_test = train_test_split(X, y, test_size=0.20, random_state=42)\n",
    "\n",
    "    print(f\"Average qty train: {np.average(y_train):.3}\")\n",
    "    \n",
    "    # define hyperparameter\n",
    "    lambdas = [1e-10,1e-5,1e-4,1e-3,1e-2,0.1, 0.5,1,5,10,50,100]\n",
    "        \n",
    "    # --- Linear Reression\n",
    "    kf = KFold(n_splits=5)\n",
    "    i=1\n",
    "    fold_mse = []\n",
    "    fold_r2 = []\n",
    "    for train_index, test_index in kf.split(X_train):\n",
    "#         print('Split {}: \\n\\tTest Folds: [{}] \\n\\tTrain Folds {}'.format(i, i, [j for j in range(1,6) if j != i]))\n",
    "        x_train_fold = X_train.values[train_index]\n",
    "        y_train_fold = y_train.values[train_index]\n",
    "        x_test_fold = X_train.values[test_index,:]\n",
    "        y_test_fold = y_train.values[test_index]\n",
    "\n",
    "        lr = LinearRegression()\n",
    "        lr.fit(x_train_fold, y_train_fold)\n",
    "        y_pred_fold = lr.predict(x_test_fold)\n",
    "        fold_mse.append( mean_squared_error(y_test_fold, y_pred_fold) )\n",
    "        fold_nmse =  1-r2_score(y_test_fold, y_pred_fold)\n",
    "        fold_r2.append( r2_score(y_test_fold, y_pred_fold))\n",
    "    # Train for later\n",
    "    lr = LinearRegression()\n",
    "    lr.fit(X_train, y_train)\n",
    "    print(f'Linear Regression Avg R2 score: {np.average(fold_r2):.3}', f\"MSE: {np.average(fold_mse):.3}\")\n",
    "#     print('Linear Regression Avg R2 score:', fold_r2)\n",
    "    \n",
    "    # --- Ridge\n",
    "    ridge_cv = RidgeCV(alphas=lambdas, cv=5)\n",
    "    ridge_cv.fit(X_train, y_train)\n",
    "    y_pred = ridge_cv.predict(X_train)\n",
    "    ridge_mse = mean_squared_error(y_train, y_pred)\n",
    "    ridge_r2 =  np.mean(cross_val_score(ridge_cv, X_train, y_train))\n",
    "    print('Ridge Best lambda:', ridge_cv.alpha_, 'Avg R2 score:', ridge_r2, f'MSE: {ridge_mse:.3}')\n",
    "    \n",
    "    # --- Lasso\n",
    "    lasso_cv = LassoCV(alphas=lambdas, cv=5)\n",
    "    lasso_cv.fit(X_train, y_train)\n",
    "    y_pred = lasso_cv.predict(X_train)\n",
    "    lasso_mse = mean_squared_error(y_train, y_pred)\n",
    "    lasso_r2 =  np.mean(cross_val_score(lasso_cv, X_train, y_train))\n",
    "    print('Lasso Best lambda:', lasso_cv.alpha_, 'Avg R2 score:',lasso_r2, f'MSE: {lasso_mse:.3}')\n",
    "\n",
    "\n",
    "    # Testing on test dataset\n",
    "    print(f' ---- Running model on Test DataSet ----')\n",
    "    \n",
    "    print(f\"Average qty test: {np.average(y_test):.3}\")\n",
    "    print(\"\")\n",
    "    # Linear Regression\n",
    "    y_test_pred = lr.predict(X_test)\n",
    "    # ----------------\n",
    "    y_test_pred = pd.Series(y_test_pred, name=\"qty^\")\n",
    "    y_test_pred.index = y_test.index\n",
    "    \n",
    "    df = pd.concat([X_test, y_test, y_test_pred], axis='columns')\n",
    "    df.to_csv(\"temp_1.csv\")\n",
    "    # ----------------\n",
    "    lr_test_r2 = r2_score(y_test, y_test_pred)\n",
    "    lr_mse = mean_squared_error(y_test, y_test_pred)\n",
    "#     plot_2_lines(y_test, y_test_pred)\n",
    "    print(f'lr_test_r2: {lr_test_r2:.3}  MSE: {lr_mse:.3}')\n",
    "    \n",
    "    # Ridge\n",
    "    y_test_pred = ridge_cv.predict(X_test)\n",
    "    ridge_test_r2 = r2_score(y_test, y_test_pred)\n",
    "    ridge_mse = mean_squared_error(y_test, y_test_pred)\n",
    "#     plot_2_lines(y_test, y_test_pred)\n",
    "    print(f'ridge_test_r2: {ridge_test_r2:.3} MSE: {ridge_mse:.3}')\n",
    "    \n",
    "    # LASSO\n",
    "    y_test_pred = lasso_cv.predict(X_test)\n",
    "    lasso_test_r2 = r2_score(y_test, y_test_pred)\n",
    "    lasso_mse = mean_squared_error(y_test, y_test_pred)\n",
    "#     plot_2_lines(y_test, y_test_pred)\n",
    "    print(f'lasso_test_r2: {lasso_test_r2:.3} MSE: {lasso_mse:.3}')\n",
    "    \n",
    "    return lr"
   ]
  },
  {
   "cell_type": "code",
   "execution_count": 29,
   "id": "7a9e910f",
   "metadata": {},
   "outputs": [],
   "source": [
    "scaler = StandardScaler()\n",
    "sales = scaler.fit_transform(sales)"
   ]
  },
  {
   "cell_type": "code",
   "execution_count": 31,
   "id": "7833dd97",
   "metadata": {},
   "outputs": [
    {
     "data": {
      "text/plain": [
       "(688454, 10)"
      ]
     },
     "execution_count": 31,
     "metadata": {},
     "output_type": "execute_result"
    }
   ],
   "source": [
    "sales.shape"
   ]
  },
  {
   "cell_type": "code",
   "execution_count": 24,
   "id": "f7ddb69f",
   "metadata": {},
   "outputs": [
    {
     "name": "stdout",
     "output_type": "stream",
     "text": [
      " +++++++++++++\n",
      "Nueral Net Score: -6.942942310628197e-06\n",
      "MSE: 22.13534406725743\n",
      "R2 Score: -6.942942310628197e-06\n",
      "Sum of y_pred: 2196773.567745835\n",
      "Sum of y_train: 2189945.809000184\n",
      "Diffs of Sum: 6827.7587456512265\n",
      " +++++++++++++\n"
     ]
    }
   ],
   "source": [
    "# # def apply_ml(sales):\n",
    "# print(f'DataSet: imputed_v3.csv')\n",
    "# sales = pd.read_csv(\"../data/processed/nts_imputed_v3.csv\", parse_dates=['date'])\n",
    "# sales[\"year\"] = sales.date.apply(lambda x: x.year)\n",
    "# sales[\"month\"] = sales.date.apply(lambda x: x.month)\n",
    "# sales[\"week\"] = sales.date.apply(lambda x: x.week)\n",
    "# sales[\"day_of_week\"] = sales.date.apply(lambda x: x.dayofweek)\n",
    "# sales = sales.drop(\"date\", axis=\"columns\")\n",
    "\n",
    "# # Convert categorical to numeric\n",
    "# category = sales.Category.unique()\n",
    "# category = zip(category, np.random.randint(1000,9999, size=(len(category))))\n",
    "# category = dict(category)\n",
    "# sales.replace({\"Category\": category}, inplace=True)\n",
    "\n",
    "# group = sales.Group.unique()\n",
    "# group = zip(group, np.random.randint(1000,9999, size=(len(group))))\n",
    "# group= dict(group)\n",
    "# sales.replace({\"Group\": group}, inplace=True)\n",
    "\n",
    "# # Split dataset\n",
    "# X = sales.loc[:, sales.columns != 'qty']\n",
    "# y = sales['qty']\n",
    "# X_train, X_test, y_train, y_test = train_test_split(X, y, test_size=0.20, random_state=42)\n",
    "\n",
    "\n",
    "# --- Neural Network\n",
    "\n",
    "\n",
    "# --- scaler\n",
    "sale\n",
    "regr = MLPRegressor(hidden_layer_sizes=(12, 2), max_iter=7_000)\n",
    "regr.fit(X_train, y_train)\n",
    "y_pred = regr.predict(X_train)\n",
    "nn_score = regr.score(X_train, y_train)\n",
    "nn_mse = mean_squared_error(y_train, y_pred)\n",
    "nn_r2 = r2_score(y_train, y_pred)\n",
    "print(f\" +++++++++++++\")\n",
    "print(f'Nueral Net Score: {nn_score}')\n",
    "print(f\"MSE: {nn_mse}\")\n",
    "print(f\"R2 Score: {nn_r2}\")\n",
    "print(f\"Sum of y_pred: {sum(y_pred)}\")\n",
    "print(f\"Sum of y_train: {sum(y_train)}\")\n",
    "print(f\"Diffs of Sum: {abs( sum(y_pred) - sum(y_train))}\")\n",
    "print(f\" +++++++++++++\")"
   ]
  },
  {
   "cell_type": "markdown",
   "id": "87e1bd2a",
   "metadata": {},
   "source": [
    "Nueral Net Score: -1.723927622876431e-08\n",
    "MSE: 22.135190765502223\n",
    "R2 Score: -1.723927622876431e-08\n",
    "Sum of y_pred: 2190286.033722403\n",
    "Sum of y_train: 2189945.809000184\n",
    "Diffs of Sum: 340.2247222191654\n"
   ]
  },
  {
   "cell_type": "code",
   "execution_count": 25,
   "id": "5b3dce19",
   "metadata": {},
   "outputs": [],
   "source": [
    "y_pred = pd.Series(y_pred, name=\"qty^\")\n",
    "y_pred.index = y_train.index"
   ]
  },
  {
   "cell_type": "code",
   "execution_count": 26,
   "id": "563f6eec",
   "metadata": {},
   "outputs": [],
   "source": [
    "pd.concat([y_train, y_pred], axis=1).to_csv(\"temp.csv\")"
   ]
  },
  {
   "cell_type": "code",
   "execution_count": 25,
   "id": "ab559341",
   "metadata": {
    "scrolled": false
   },
   "outputs": [
    {
     "name": "stdout",
     "output_type": "stream",
     "text": [
      "DataSet: nts_v1.csv\n",
      "\n",
      "DataSet: nts__outliers_removed_v2.csv\n",
      "\n",
      "DataSet: imputed_v3.csv\n",
      " +++++++++++++\n",
      "Nueral Net Score: 0.08774958244269926\n",
      "MSE: 20.192836670430022\n",
      "R2 Score: 0.08774958244269926\n",
      " +++++++++++++\n"
     ]
    }
   ],
   "source": [
    "print(f'DataSet: nts_v1.csv')\n",
    "sales = pd.read_csv(\"../data/processed/nts_v1.csv\", parse_dates=['date'])\n",
    "# apply_lr_ridge_lasso(sales)\n",
    "# apply_ml(sales)\n",
    "\n",
    "print(\"\")\n",
    "\n",
    "print(f'DataSet: nts__outliers_removed_v2.csv')\n",
    "sales = pd.read_csv(\"../data/processed/nts__outliers_removed_v2.csv\", parse_dates=['date'])\n",
    "# apply_lr_ridge_lasso(sales)\n",
    "# apply_ml(sales)\n",
    "\n",
    "print(\"\")\n",
    "\n",
    "print(f'DataSet: imputed_v3.csv')\n",
    "sales = pd.read_csv(\"../data/processed/nts_imputed_v3.csv\", parse_dates=['date'])\n",
    "# best_model = apply_lr_ridge_lasso(sales)\n",
    "apply_ml(sales)"
   ]
  },
  {
   "cell_type": "markdown",
   "id": "3a9ab9e6",
   "metadata": {},
   "source": [
    "## Running best model on Test.csv"
   ]
  },
  {
   "cell_type": "code",
   "execution_count": 85,
   "id": "fcf711f7",
   "metadata": {},
   "outputs": [
    {
     "name": "stdout",
     "output_type": "stream",
     "text": [
      "DataSet: imputed_v3.csv\n"
     ]
    }
   ],
   "source": [
    "print(f'DataSet: imputed_v3.csv')\n",
    "sales_og_test = pd.read_csv(\"../data/processed/test_data_processed.csv\", parse_dates=['date'])\n",
    "sales_test = copy(sales_og_test)\n",
    "sales_test[\"year\"] = sales_test.date.apply(lambda x: x.year)\n",
    "sales_test[\"month\"] = sales_test.date.apply(lambda x: x.month)\n",
    "sales_test[\"week\"] = sales_test.date.apply(lambda x: x.week)\n",
    "sales_test[\"day_of_week\"] = sales_test.date.apply(lambda x: x.dayofweek)\n",
    "sales_test = sales_test.drop(\"date\", axis=\"columns\")\n",
    "\n",
    "# Convert categorical to numeric\n",
    "category = sales_test.Category.unique()\n",
    "category = zip(category, np.random.randint(1000,9999, size=(len(category))))\n",
    "category = dict(category)\n",
    "sales_test.replace({\"Category\": category}, inplace=True)\n",
    "\n",
    "group = sales_test.Group.unique()\n",
    "group = zip(group, np.random.randint(1000,9999, size=(len(group))))\n",
    "group= dict(group)\n",
    "sales_test.replace({\"Group\": group}, inplace=True)\n",
    "\n",
    "# Split dataset\n",
    "X = sales_test.loc[:, sales_test.columns != 'qty']\n",
    "y = sales_test['qty']\n",
    "\n",
    "\n",
    "y_pred = best_model.predict(X)\n"
   ]
  },
  {
   "cell_type": "code",
   "execution_count": 86,
   "id": "7c2aa5b3",
   "metadata": {},
   "outputs": [],
   "source": [
    "y_pred = pd.DataFrame(y_pred, columns=['qty'])\n",
    "sales_og_test['qty'] = y_pred"
   ]
  },
  {
   "cell_type": "code",
   "execution_count": 93,
   "id": "a3075099",
   "metadata": {},
   "outputs": [],
   "source": [
    "y_pred.to_csv(\"temp.csv\")"
   ]
  },
  {
   "cell_type": "code",
   "execution_count": 100,
   "id": "aaec5650",
   "metadata": {},
   "outputs": [],
   "source": [
    "sales_og_test.to_csv(\"../data/processed/test_submission.csv\", index=False)"
   ]
  },
  {
   "cell_type": "markdown",
   "id": "20df5c80",
   "metadata": {},
   "source": [
    "# Merge 2 DFs"
   ]
  },
  {
   "cell_type": "code",
   "execution_count": 110,
   "id": "f6437b38",
   "metadata": {},
   "outputs": [],
   "source": [
    "df = pd.read_csv(\"dollar_val.csv\")\n",
    "geoParams = pd.read_csv(\"../data/raw/geo_params.csv\", header=0, delimiter=\",\")\n",
    "df = pd.merge(df, geoParams, how='inner')\n",
    "df.to_csv(\"../data/processed/dollar_v2.csv\", index=False)"
   ]
  },
  {
   "cell_type": "code",
   "execution_count": 58,
   "id": "908b4660",
   "metadata": {},
   "outputs": [
    {
     "data": {
      "image/png": "[encoded data removed]",
      "text/plain": [
       "<Figure size 432x288 with 1 Axes>"
      ]
     },
     "metadata": {
      "needs_background": "light"
     },
     "output_type": "display_data"
    }
   ],
   "source": [
    "import statsmodels.api as sm\n",
    "import numpy as np\n",
    "import matplotlib.pyplot as plt\n",
    "from statsmodels.graphics.gofplots import qqplot_2samples\n",
    "\n",
    "#----------------------------------------------------------------\n",
    "# GRAPH\n",
    "#----------------------------------------------------------------\n",
    "a = [2, 3, 4, 5, 6, 6, 7, 7, 10]\n",
    "b = [2, 3, 4, 5, 6, 16, 17, 17, 20]\n",
    "\n",
    "def plot_2_lines(a, b):\n",
    "    x = np.array(a)\n",
    "    y = np.array(b)\n",
    "    pp_x = sm.ProbPlot(x)\n",
    "    pp_y = sm.ProbPlot(y)\n",
    "    qqplot_2samples(pp_x, pp_y)\n",
    "    plt.show()\n",
    "\n",
    "plot_2_lines(a, b)"
   ]
  },
  {
   "cell_type": "code",
   "execution_count": null,
   "id": "cc0d2739",
   "metadata": {},
   "outputs": [],
   "source": []
  }
 ],
 "metadata": {
  "kernelspec": {
   "display_name": "Python 3 (ipykernel)",
   "language": "python",
   "name": "python3"
  },
  "language_info": {
   "codemirror_mode": {
    "name": "ipython",
    "version": 3
   },
   "file_extension": ".py",
   "mimetype": "text/x-python",
   "name": "python",
   "nbconvert_exporter": "python",
   "pygments_lexer": "ipython3",
   "version": "3.9.7"
  }
 },
 "nbformat": 4,
 "nbformat_minor": 5
}
