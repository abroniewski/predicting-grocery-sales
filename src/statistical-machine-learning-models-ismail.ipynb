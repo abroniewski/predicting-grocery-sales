{
 "cells": [
  {
   "cell_type": "markdown",
   "id": "fe59d43d",
   "metadata": {},
   "source": [
    "# statistical-machine-learning-models"
   ]
  },
  {
   "cell_type": "code",
   "execution_count": 74,
   "id": "60971967",
   "metadata": {},
   "outputs": [],
   "source": [
    "import numpy as np \n",
    "import pandas as pd\n",
    "\n",
    "from sklearn.model_selection import train_test_split,  KFold, cross_val_score\n",
    "from sklearn.linear_model import LinearRegression, Ridge, RidgeCV, Lasso, LassoCV\n",
    "from sklearn.metrics import mean_squared_error, r2_score, accuracy_score\n",
    "from sklearn.preprocessing import MinMaxScaler\n",
    "\n",
    "from copy import copy"
   ]
  },
  {
   "cell_type": "markdown",
   "id": "ea961c60",
   "metadata": {},
   "source": [
    "### Structure of the problem task is:\n",
    "X \n",
    "    - ['date', 'SKU', 'Category', 'geoCluster', 'Group', 'price']\n",
    "\n",
    "Y\n",
    "    - ['qty']\n"
   ]
  },
  {
   "cell_type": "code",
   "execution_count": 13,
   "id": "0bddd364",
   "metadata": {},
   "outputs": [],
   "source": [
    "sales = pd.read_csv(\"../data/processed/nts_v1.csv\", parse_dates=['date'])"
   ]
  },
  {
   "cell_type": "markdown",
   "id": "514d501c",
   "metadata": {},
   "source": [
    "#### Convert date column to columns that can be processed by ML models"
   ]
  },
  {
   "cell_type": "code",
   "execution_count": 18,
   "id": "0aae71f5",
   "metadata": {},
   "outputs": [],
   "source": [
    "sales[\"year\"] = sales.date.apply(lambda x: x.year)\n",
    "sales[\"month\"] = sales.date.apply(lambda x: x.month)\n",
    "sales[\"week\"] = sales.date.apply(lambda x: x.week)\n",
    "sales[\"day_of_week\"] = sales.date.apply(lambda x: x.dayofweek)\n",
    "sales = sales.drop(\"date\", axis=\"columns\")"
   ]
  },
  {
   "cell_type": "code",
   "execution_count": 78,
   "id": "27b8dd58",
   "metadata": {},
   "outputs": [
    {
     "data": {
      "text/html": [
       "<div>\n",
       "<style scoped>\n",
       "    .dataframe tbody tr th:only-of-type {\n",
       "        vertical-align: middle;\n",
       "    }\n",
       "\n",
       "    .dataframe tbody tr th {\n",
       "        vertical-align: top;\n",
       "    }\n",
       "\n",
       "    .dataframe thead th {\n",
       "        text-align: right;\n",
       "    }\n",
       "</style>\n",
       "<table border=\"1\" class=\"dataframe\">\n",
       "  <thead>\n",
       "    <tr style=\"text-align: right;\">\n",
       "      <th></th>\n",
       "      <th>SKU</th>\n",
       "      <th>Category</th>\n",
       "      <th>geoCluster</th>\n",
       "      <th>Group</th>\n",
       "      <th>price</th>\n",
       "      <th>qty</th>\n",
       "      <th>year</th>\n",
       "      <th>month</th>\n",
       "      <th>week</th>\n",
       "      <th>day_of_week</th>\n",
       "    </tr>\n",
       "  </thead>\n",
       "  <tbody>\n",
       "    <tr>\n",
       "      <th>0</th>\n",
       "      <td>534443</td>\n",
       "      <td>Water, import, sparkling</td>\n",
       "      <td>2065</td>\n",
       "      <td>Mineral water</td>\n",
       "      <td>40.59</td>\n",
       "      <td>1.0</td>\n",
       "      <td>2020</td>\n",
       "      <td>1</td>\n",
       "      <td>5</td>\n",
       "      <td>0</td>\n",
       "    </tr>\n",
       "    <tr>\n",
       "      <th>1</th>\n",
       "      <td>233272</td>\n",
       "      <td>Water, import, sparkling</td>\n",
       "      <td>2065</td>\n",
       "      <td>Mineral water</td>\n",
       "      <td>32.79</td>\n",
       "      <td>2.0</td>\n",
       "      <td>2020</td>\n",
       "      <td>2</td>\n",
       "      <td>9</td>\n",
       "      <td>2</td>\n",
       "    </tr>\n",
       "    <tr>\n",
       "      <th>2</th>\n",
       "      <td>233272</td>\n",
       "      <td>Water, import, sparkling</td>\n",
       "      <td>2065</td>\n",
       "      <td>Mineral water</td>\n",
       "      <td>32.79</td>\n",
       "      <td>2.0</td>\n",
       "      <td>2020</td>\n",
       "      <td>2</td>\n",
       "      <td>9</td>\n",
       "      <td>3</td>\n",
       "    </tr>\n",
       "    <tr>\n",
       "      <th>3</th>\n",
       "      <td>233272</td>\n",
       "      <td>Water, import, sparkling</td>\n",
       "      <td>2065</td>\n",
       "      <td>Mineral water</td>\n",
       "      <td>36.89</td>\n",
       "      <td>2.0</td>\n",
       "      <td>2020</td>\n",
       "      <td>3</td>\n",
       "      <td>10</td>\n",
       "      <td>1</td>\n",
       "    </tr>\n",
       "    <tr>\n",
       "      <th>4</th>\n",
       "      <td>787133</td>\n",
       "      <td>Avocado</td>\n",
       "      <td>2016</td>\n",
       "      <td>Tropical fruits</td>\n",
       "      <td>79.59</td>\n",
       "      <td>4.0</td>\n",
       "      <td>2020</td>\n",
       "      <td>4</td>\n",
       "      <td>14</td>\n",
       "      <td>2</td>\n",
       "    </tr>\n",
       "  </tbody>\n",
       "</table>\n",
       "</div>"
      ],
      "text/plain": [
       "      SKU                  Category  geoCluster            Group  price  qty  \\\n",
       "0  534443  Water, import, sparkling        2065    Mineral water  40.59  1.0   \n",
       "1  233272  Water, import, sparkling        2065    Mineral water  32.79  2.0   \n",
       "2  233272  Water, import, sparkling        2065    Mineral water  32.79  2.0   \n",
       "3  233272  Water, import, sparkling        2065    Mineral water  36.89  2.0   \n",
       "4  787133                   Avocado        2016  Tropical fruits  79.59  4.0   \n",
       "\n",
       "   year  month  week  day_of_week  \n",
       "0  2020      1     5            0  \n",
       "1  2020      2     9            2  \n",
       "2  2020      2     9            3  \n",
       "3  2020      3    10            1  \n",
       "4  2020      4    14            2  "
      ]
     },
     "execution_count": 78,
     "metadata": {},
     "output_type": "execute_result"
    }
   ],
   "source": [
    "sales.head()"
   ]
  },
  {
   "cell_type": "code",
   "execution_count": 27,
   "id": "ca5d4c5e",
   "metadata": {},
   "outputs": [],
   "source": [
    "X = sales.loc[:, sales.columns != 'qty']\n",
    "y = sales['qty']\n",
    "X_train, X_test, y_train, y_test = train_test_split(X, y, test_size=0.20, random_state=42)"
   ]
  },
  {
   "cell_type": "code",
   "execution_count": 58,
   "id": "69a1c564",
   "metadata": {},
   "outputs": [
    {
     "name": "stdout",
     "output_type": "stream",
     "text": [
      "Original shape:(622168, 9)\n",
      "Droped: ['Category' 'Group']\n",
      "New shape:(622168, 7)\n",
      "Original shape:(155543, 9)\n",
      "Droped: ['Category' 'Group']\n",
      "New shape:(155543, 7)\n"
     ]
    }
   ],
   "source": [
    "def minimum_preprocessing(X, y):\n",
    "    print('Original shape:{}'.format(X.shape))\n",
    "    categorical_columns = X.dtypes[X.dtypes == 'object'].index.values\n",
    "    # We kill categorical columns\n",
    "    X=X.drop(columns=categorical_columns)\n",
    "    print('Droped: {}'.format(categorical_columns))\n",
    "    # We remove missing values\n",
    "    X=X.dropna()\n",
    "    y=y[X.index]\n",
    "    print('New shape:{}'.format(X.shape))\n",
    "    return X, y\n",
    "\n",
    "X_train, y_train = minimum_preprocessing(X_train,y_train)\n",
    "X_test, y_test = minimum_preprocessing(X_test,y_test)"
   ]
  },
  {
   "cell_type": "markdown",
   "id": "f50a49b2",
   "metadata": {},
   "source": [
    "## Basic Prediction"
   ]
  },
  {
   "cell_type": "code",
   "execution_count": 77,
   "id": "0633a41b",
   "metadata": {},
   "outputs": [
    {
     "name": "stderr",
     "output_type": "stream",
     "text": [
      "/home/teemo/anaconda3/envs/ds/lib/python3.9/site-packages/sklearn/linear_model/_base.py:148: FutureWarning: 'normalize' was deprecated in version 1.0 and will be removed in 1.2. Please leave the normalize parameter to its default value to silence this warning. The default behavior of this estimator is to not do any normalization. If normalization is needed please use sklearn.preprocessing.StandardScaler instead.\n",
      "  warnings.warn(\n"
     ]
    },
    {
     "name": "stdout",
     "output_type": "stream",
     "text": [
      "Coefficients: \n",
      " [-1.70308483e-06 -1.87186318e-04 -1.33317737e-02  6.12101141e-01\n",
      "  8.36417766e-02 -4.53097213e-03  2.40979676e-02]\n",
      "Intercept: \n",
      " -1231.837800882124\n",
      "Train Mean Squared Error (MSE): 18.83765205126188\n",
      "Split 1: \n",
      "\tTest Folds: [1] \n",
      "\tTrain Folds [2, 3, 4, 5]\n"
     ]
    },
    {
     "name": "stderr",
     "output_type": "stream",
     "text": [
      "/home/teemo/anaconda3/envs/ds/lib/python3.9/site-packages/sklearn/linear_model/_base.py:148: FutureWarning: 'normalize' was deprecated in version 1.0 and will be removed in 1.2. Please leave the normalize parameter to its default value to silence this warning. The default behavior of this estimator is to not do any normalization. If normalization is needed please use sklearn.preprocessing.StandardScaler instead.\n",
      "  warnings.warn(\n"
     ]
    },
    {
     "name": "stdout",
     "output_type": "stream",
     "text": [
      "\tMSE: 20.10730344147186 NMSE: 0.9271118386422821 R2: 0.07288816135771792\n",
      "Split 2: \n",
      "\tTest Folds: [2] \n",
      "\tTrain Folds [1, 3, 4, 5]\n"
     ]
    },
    {
     "name": "stderr",
     "output_type": "stream",
     "text": [
      "/home/teemo/anaconda3/envs/ds/lib/python3.9/site-packages/sklearn/linear_model/_base.py:148: FutureWarning: 'normalize' was deprecated in version 1.0 and will be removed in 1.2. Please leave the normalize parameter to its default value to silence this warning. The default behavior of this estimator is to not do any normalization. If normalization is needed please use sklearn.preprocessing.StandardScaler instead.\n",
      "  warnings.warn(\n"
     ]
    },
    {
     "name": "stdout",
     "output_type": "stream",
     "text": [
      "\tMSE: 19.0985915572344 NMSE: 0.9219591101505626 R2: 0.07804088984943736\n",
      "Split 3: \n",
      "\tTest Folds: [3] \n",
      "\tTrain Folds [1, 2, 4, 5]\n"
     ]
    },
    {
     "name": "stderr",
     "output_type": "stream",
     "text": [
      "/home/teemo/anaconda3/envs/ds/lib/python3.9/site-packages/sklearn/linear_model/_base.py:148: FutureWarning: 'normalize' was deprecated in version 1.0 and will be removed in 1.2. Please leave the normalize parameter to its default value to silence this warning. The default behavior of this estimator is to not do any normalization. If normalization is needed please use sklearn.preprocessing.StandardScaler instead.\n",
      "  warnings.warn(\n"
     ]
    },
    {
     "name": "stdout",
     "output_type": "stream",
     "text": [
      "\tMSE: 17.789157995735295 NMSE: 0.9159069753891894 R2: 0.08409302461081058\n",
      "Split 4: \n",
      "\tTest Folds: [4] \n",
      "\tTrain Folds [1, 2, 3, 5]\n",
      "\tMSE: 18.471516507743246 NMSE: 0.9175820616332909 R2: 0.08241793836670908\n",
      "Split 5: \n",
      "\tTest Folds: [5] \n",
      "\tTrain Folds [1, 2, 3, 4]\n"
     ]
    },
    {
     "name": "stderr",
     "output_type": "stream",
     "text": [
      "/home/teemo/anaconda3/envs/ds/lib/python3.9/site-packages/sklearn/linear_model/_base.py:148: FutureWarning: 'normalize' was deprecated in version 1.0 and will be removed in 1.2. Please leave the normalize parameter to its default value to silence this warning. The default behavior of this estimator is to not do any normalization. If normalization is needed please use sklearn.preprocessing.StandardScaler instead.\n",
      "  warnings.warn(\n",
      "/home/teemo/anaconda3/envs/ds/lib/python3.9/site-packages/sklearn/linear_model/_base.py:148: FutureWarning: 'normalize' was deprecated in version 1.0 and will be removed in 1.2. Please leave the normalize parameter to its default value to silence this warning. The default behavior of this estimator is to not do any normalization. If normalization is needed please use sklearn.preprocessing.StandardScaler instead.\n",
      "  warnings.warn(\n"
     ]
    },
    {
     "name": "stdout",
     "output_type": "stream",
     "text": [
      "\tMSE: 18.726104731776452 NMSE: 0.9160392333037006 R2: 0.08396076669629937\n"
     ]
    },
    {
     "data": {
      "text/html": [
       "<div>\n",
       "<style scoped>\n",
       "    .dataframe tbody tr th:only-of-type {\n",
       "        vertical-align: middle;\n",
       "    }\n",
       "\n",
       "    .dataframe tbody tr th {\n",
       "        vertical-align: top;\n",
       "    }\n",
       "\n",
       "    .dataframe thead th {\n",
       "        text-align: right;\n",
       "    }\n",
       "</style>\n",
       "<table border=\"1\" class=\"dataframe\">\n",
       "  <thead>\n",
       "    <tr style=\"text-align: right;\">\n",
       "      <th></th>\n",
       "      <th>MSE</th>\n",
       "      <th>norm_MSE</th>\n",
       "      <th>R2</th>\n",
       "    </tr>\n",
       "  </thead>\n",
       "  <tbody>\n",
       "    <tr>\n",
       "      <th>Fold 1</th>\n",
       "      <td>20.107303</td>\n",
       "      <td>0.927112</td>\n",
       "      <td>0.072888</td>\n",
       "    </tr>\n",
       "    <tr>\n",
       "      <th>Fold 2</th>\n",
       "      <td>19.098592</td>\n",
       "      <td>0.921959</td>\n",
       "      <td>0.078041</td>\n",
       "    </tr>\n",
       "    <tr>\n",
       "      <th>Fold 3</th>\n",
       "      <td>17.789158</td>\n",
       "      <td>0.915907</td>\n",
       "      <td>0.084093</td>\n",
       "    </tr>\n",
       "    <tr>\n",
       "      <th>Fold 4</th>\n",
       "      <td>18.471517</td>\n",
       "      <td>0.917582</td>\n",
       "      <td>0.082418</td>\n",
       "    </tr>\n",
       "    <tr>\n",
       "      <th>Fold 5</th>\n",
       "      <td>18.726105</td>\n",
       "      <td>0.916039</td>\n",
       "      <td>0.083961</td>\n",
       "    </tr>\n",
       "    <tr>\n",
       "      <th>Mean</th>\n",
       "      <td>18.838535</td>\n",
       "      <td>0.91972</td>\n",
       "      <td>0.08028</td>\n",
       "    </tr>\n",
       "  </tbody>\n",
       "</table>\n",
       "</div>"
      ],
      "text/plain": [
       "              MSE  norm_MSE        R2\n",
       "Fold 1  20.107303  0.927112  0.072888\n",
       "Fold 2  19.098592  0.921959  0.078041\n",
       "Fold 3  17.789158  0.915907  0.084093\n",
       "Fold 4  18.471517  0.917582  0.082418\n",
       "Fold 5  18.726105  0.916039  0.083961\n",
       "Mean    18.838535   0.91972   0.08028"
      ]
     },
     "execution_count": 77,
     "metadata": {},
     "output_type": "execute_result"
    }
   ],
   "source": [
    "# We instantiate a linear regression. \n",
    "lr = LinearRegression(normalize=False)\n",
    "\n",
    "# Now we train it on train data with fit method\n",
    "lr.fit(X_train,y_train)\n",
    "\n",
    "# We can predict using the predict method\n",
    "y_pred = lr.predict(X_train)\n",
    "\n",
    "weights = lr.coef_\n",
    "intercept = lr.intercept_\n",
    "# You can access to some info about the model, like the weights.\n",
    "print('Coefficients: \\n', weights[:10])\n",
    "print('Intercept: \\n', intercept)\n",
    "\n",
    "\n",
    "# You can also use sklearn implementation\n",
    "mean_square_error_sk = mean_squared_error(y_train, y_pred)\n",
    "print( f\"Train Mean Squared Error (MSE): {mean_square_error_sk}\" )\n",
    "\n",
    "cross_val_metrics = pd.DataFrame(columns=['MSE', 'norm_MSE', 'R2'])\n",
    "\n",
    "kf = KFold(n_splits=5)\n",
    "i=1\n",
    "for train_index, test_index in kf.split(X_train):\n",
    "    print('Split {}: \\n\\tTest Folds: [{}] \\n\\tTrain Folds {}'.format(i, i, [j for j in range(1,6) if j != i]))\n",
    "    \n",
    "    x_train_fold = X_train.values[train_index]\n",
    "    y_train_fold = y_train.values[train_index]\n",
    "    x_test_fold = X_train.values[test_index,:]\n",
    "    y_test_fold = y_train.values[test_index]\n",
    "\n",
    "    lr = LinearRegression(normalize=False)\n",
    "    lr.fit(x_train_fold,y_train_fold)\n",
    "    y_pred_fold = lr.predict(x_test_fold)\n",
    "    fold_mse = mean_squared_error(y_test_fold, y_pred_fold)\n",
    "    fold_nmse =  1-r2_score(y_test_fold, y_pred_fold)\n",
    "    fold_r2 = r2_score(y_test_fold, y_pred_fold)\n",
    "    print('\\tMSE: {} NMSE: {} R2: {}'.format(fold_mse,fold_nmse, fold_r2) )\n",
    "\n",
    "    cross_val_metrics.loc['Fold {}'.format(i), :] = [fold_mse,fold_nmse, fold_r2]\n",
    "    i+=1\n",
    "    \n",
    "    \n",
    "cross_val_metrics.loc['Mean',:] = cross_val_metrics.mean()\n",
    "cross_val_metrics"
   ]
  },
  {
   "cell_type": "code",
   "execution_count": null,
   "id": "5c097948",
   "metadata": {},
   "outputs": [],
   "source": []
  },
  {
   "cell_type": "code",
   "execution_count": null,
   "id": "ebdb41f5",
   "metadata": {},
   "outputs": [],
   "source": []
  }
 ],
 "metadata": {
  "kernelspec": {
   "display_name": "Python 3 (ipykernel)",
   "language": "python",
   "name": "python3"
  },
  "language_info": {
   "codemirror_mode": {
    "name": "ipython",
    "version": 3
   },
   "file_extension": ".py",
   "mimetype": "text/x-python",
   "name": "python",
   "nbconvert_exporter": "python",
   "pygments_lexer": "ipython3",
   "version": "3.9.7"
  }
 },
 "nbformat": 4,
 "nbformat_minor": 5
}
