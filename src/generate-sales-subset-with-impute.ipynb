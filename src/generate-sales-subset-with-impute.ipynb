{
 "cells": [
  {
   "cell_type": "markdown",
   "metadata": {
    "pycharm": {
     "name": "#%% md\n"
    }
   },
   "source": [
    "# Creating Data Subsets\n",
    "Here we will create subsets of data that can be passed into a multivariate time series regression"
   ]
  },
  {
   "cell_type": "code",
   "execution_count": 67,
   "outputs": [],
   "source": [
    "import warnings\n",
    "warnings.simplefilter(action='ignore', category=FutureWarning)\n",
    "import pandas as pd\n",
    "from tqdm import tqdm\n",
    "import json\n",
    "import numpy as np\n",
    "from copy import copy\n",
    "import seaborn as sns\n",
    "import matplotlib.pyplot as plt\n",
    "from scipy import stats"
   ],
   "metadata": {
    "collapsed": false,
    "pycharm": {
     "name": "#%%\n"
    }
   }
  },
  {
   "cell_type": "code",
   "execution_count": 68,
   "outputs": [],
   "source": [
    "sales = pd.read_csv(\"../data/raw/sales.csv\", header=0, delimiter=\",\")\n",
    "sku = pd.read_csv(\"../data/raw/sku.csv\", header=0, delimiter=\",\")\n",
    "geoParams = pd.read_csv(\"../data/raw/geo_params.csv\", header=0, delimiter=\",\")"
   ],
   "metadata": {
    "collapsed": false,
    "pycharm": {
     "name": "#%%\n"
    }
   }
  },
  {
   "cell_type": "markdown",
   "source": [
    "Merge the geo_params and sales data files. A different subset will be generated for each item (SKU) for every geographic cluster location. The data will be stored in a dictionary with:\n",
    "- key: `geoCluster_ID` and `SKU`\n",
    "- value: list of `date`, `price`, and `sales`\n",
    "\n",
    "The dictionary will be written to a json file for convenience."
   ],
   "metadata": {
    "collapsed": false,
    "pycharm": {
     "name": "#%% md\n"
    }
   }
  },
  {
   "cell_type": "markdown",
   "source": [
    "### Pre-process sku file"
   ],
   "metadata": {
    "collapsed": false,
    "pycharm": {
     "name": "#%% md\n"
    }
   }
  },
  {
   "cell_type": "code",
   "execution_count": 69,
   "outputs": [
    {
     "data": {
      "text/plain": "Index(['SKU', 'Category', 'Type', 'brandId', 'lagerUnitQuantity', 'Units',\n       'trademark', 'countryOfOrigin', 'Group'],\n      dtype='object')"
     },
     "execution_count": 69,
     "metadata": {},
     "output_type": "execute_result"
    }
   ],
   "source": [
    "sku.keys()"
   ],
   "metadata": {
    "collapsed": false,
    "pycharm": {
     "name": "#%%\n"
    }
   }
  },
  {
   "cell_type": "code",
   "execution_count": 70,
   "outputs": [],
   "source": [
    "sku.loc[sku['SKU'].isin( [612845, 782787, 802382, 819149, 819150] ), \"Category\"] = \"Yoghurts\""
   ],
   "metadata": {
    "collapsed": false,
    "pycharm": {
     "name": "#%%\n"
    }
   }
  },
  {
   "cell_type": "code",
   "execution_count": 71,
   "outputs": [],
   "source": [
    "# Join datasets\n",
    "sales.sort_values(\"date\", inplace=True)\n",
    "sales = sales.join(geoParams.set_index(\"geoCluster\"),on=\"geoCluster\", rsuffix=\"gC\")\n",
    "sales = pd.merge(sales, sku, how='left', on='SKU')"
   ],
   "metadata": {
    "collapsed": false,
    "pycharm": {
     "name": "#%%\n"
    }
   }
  },
  {
   "cell_type": "markdown",
   "source": [
    "#### Clean Dataset"
   ],
   "metadata": {
    "collapsed": false,
    "pycharm": {
     "name": "#%% md\n"
    }
   }
  },
  {
   "cell_type": "code",
   "execution_count": 72,
   "outputs": [],
   "source": [
    "sales[\"qty\"] = sales.sales\n",
    "sales = sales.drop(labels='sales', axis='columns')"
   ],
   "metadata": {
    "collapsed": false,
    "pycharm": {
     "name": "#%%\n"
    }
   }
  },
  {
   "cell_type": "code",
   "execution_count": 73,
   "outputs": [],
   "source": [
    "sales = sales[[\"date\", \"SKU\", \"Category\", \"geoCluster\", \"Group\", \"price\", \"qty\"]]"
   ],
   "metadata": {
    "collapsed": false,
    "pycharm": {
     "name": "#%%\n"
    }
   }
  },
  {
   "cell_type": "code",
   "execution_count": 74,
   "outputs": [
    {
     "data": {
      "text/plain": "               date     SKU  \\\n0        2020-01-01   49207   \n1        2020-01-01  690818   \n2        2020-01-01  642700   \n3        2020-01-01  736360   \n4        2020-01-01   20872   \n...             ...     ...   \n4605980  2021-07-05   49450   \n4605981  2021-07-05   47330   \n4605982  2021-07-05   26194   \n4605983  2021-07-05  571255   \n4605984  2021-07-05  711838   \n\n                                                  Category  geoCluster  \\\n0                                                    Mango        2709   \n1                        Ciabatta, light, plain, parbaking        2709   \n2                            Semi-hard coarse-pored cheese        3095   \n3                                                 Yoghurts        2221   \n4                                         Water, sparkling        2145   \n...                                                    ...         ...   \n4605980                              Semi-hard bulk cheese        2108   \n4605981                      Semi-hard coarse-pored cheese        2108   \n4605982                      Semi-hard coarse-pored cheese        2108   \n4605983                      Semi-hard coarse-pored cheese        2112   \n4605984  Wheat bran bread baked in the hearth, own prod...        3230   \n\n                   Group       price   qty  \n0        Tropical fruits   36.331031   0.0  \n1                 Bakery   25.053427   0.0  \n2                 Cheese  269.068564   0.0  \n3                Yogurts   22.285024   0.0  \n4          Mineral water   37.397197   0.0  \n...                  ...         ...   ...  \n4605980           Cheese  286.902627   0.0  \n4605981           Cheese  317.921482   0.0  \n4605982           Cheese  353.384395   0.0  \n4605983           Cheese  317.092701   0.0  \n4605984           Bakery   28.490000  13.0  \n\n[4605985 rows x 7 columns]",
      "text/html": "<div>\n<style scoped>\n    .dataframe tbody tr th:only-of-type {\n        vertical-align: middle;\n    }\n\n    .dataframe tbody tr th {\n        vertical-align: top;\n    }\n\n    .dataframe thead th {\n        text-align: right;\n    }\n</style>\n<table border=\"1\" class=\"dataframe\">\n  <thead>\n    <tr style=\"text-align: right;\">\n      <th></th>\n      <th>date</th>\n      <th>SKU</th>\n      <th>Category</th>\n      <th>geoCluster</th>\n      <th>Group</th>\n      <th>price</th>\n      <th>qty</th>\n    </tr>\n  </thead>\n  <tbody>\n    <tr>\n      <th>0</th>\n      <td>2020-01-01</td>\n      <td>49207</td>\n      <td>Mango</td>\n      <td>2709</td>\n      <td>Tropical fruits</td>\n      <td>36.331031</td>\n      <td>0.0</td>\n    </tr>\n    <tr>\n      <th>1</th>\n      <td>2020-01-01</td>\n      <td>690818</td>\n      <td>Ciabatta, light, plain, parbaking</td>\n      <td>2709</td>\n      <td>Bakery</td>\n      <td>25.053427</td>\n      <td>0.0</td>\n    </tr>\n    <tr>\n      <th>2</th>\n      <td>2020-01-01</td>\n      <td>642700</td>\n      <td>Semi-hard coarse-pored cheese</td>\n      <td>3095</td>\n      <td>Cheese</td>\n      <td>269.068564</td>\n      <td>0.0</td>\n    </tr>\n    <tr>\n      <th>3</th>\n      <td>2020-01-01</td>\n      <td>736360</td>\n      <td>Yoghurts</td>\n      <td>2221</td>\n      <td>Yogurts</td>\n      <td>22.285024</td>\n      <td>0.0</td>\n    </tr>\n    <tr>\n      <th>4</th>\n      <td>2020-01-01</td>\n      <td>20872</td>\n      <td>Water, sparkling</td>\n      <td>2145</td>\n      <td>Mineral water</td>\n      <td>37.397197</td>\n      <td>0.0</td>\n    </tr>\n    <tr>\n      <th>...</th>\n      <td>...</td>\n      <td>...</td>\n      <td>...</td>\n      <td>...</td>\n      <td>...</td>\n      <td>...</td>\n      <td>...</td>\n    </tr>\n    <tr>\n      <th>4605980</th>\n      <td>2021-07-05</td>\n      <td>49450</td>\n      <td>Semi-hard bulk cheese</td>\n      <td>2108</td>\n      <td>Cheese</td>\n      <td>286.902627</td>\n      <td>0.0</td>\n    </tr>\n    <tr>\n      <th>4605981</th>\n      <td>2021-07-05</td>\n      <td>47330</td>\n      <td>Semi-hard coarse-pored cheese</td>\n      <td>2108</td>\n      <td>Cheese</td>\n      <td>317.921482</td>\n      <td>0.0</td>\n    </tr>\n    <tr>\n      <th>4605982</th>\n      <td>2021-07-05</td>\n      <td>26194</td>\n      <td>Semi-hard coarse-pored cheese</td>\n      <td>2108</td>\n      <td>Cheese</td>\n      <td>353.384395</td>\n      <td>0.0</td>\n    </tr>\n    <tr>\n      <th>4605983</th>\n      <td>2021-07-05</td>\n      <td>571255</td>\n      <td>Semi-hard coarse-pored cheese</td>\n      <td>2112</td>\n      <td>Cheese</td>\n      <td>317.092701</td>\n      <td>0.0</td>\n    </tr>\n    <tr>\n      <th>4605984</th>\n      <td>2021-07-05</td>\n      <td>711838</td>\n      <td>Wheat bran bread baked in the hearth, own prod...</td>\n      <td>3230</td>\n      <td>Bakery</td>\n      <td>28.490000</td>\n      <td>13.0</td>\n    </tr>\n  </tbody>\n</table>\n<p>4605985 rows × 7 columns</p>\n</div>"
     },
     "execution_count": 74,
     "metadata": {},
     "output_type": "execute_result"
    }
   ],
   "source": [
    "df_nts = copy( sales )\n",
    "df_nts['qty'] = df_nts['qty'].fillna(0)\n",
    "average_price_impute = df_nts[[\"SKU\",\"price\"]].groupby('SKU').mean()\n",
    "average_price_impute = average_price_impute[\"price\"].to_dict()\n",
    "average_price_impute[24]\n",
    "# print(df_nts.loc[(df_nts[\"SKU\"] == sku & pd.isnull(df_nts[\"price\"]), \"price\")])\n",
    "\n",
    "\n",
    "# df_nts['price'] = np.where(df_nts['SKU'] == sku, average_price_impute,20)\n",
    "\n",
    "for sku in df_nts[\"SKU\"].unique():\n",
    "    # print(average_price_impute[average_price_impute[\"SKU\"]==sku])\n",
    "    df_nts.loc[ (df_nts[\"SKU\"] == sku) & (pd.isnull(df_nts[\"price\"])) , \"price\"] = average_price_impute[sku]\n",
    "\n",
    "df_nts\n",
    "#     df_nts.loc[(df_nts[\"SKU\"] == sku & pd.isnull(df_nts[\"price\"]), \"price\").all(1)] = average_price_impute[\"SKU\"]\n",
    "# df_nts[pd.isnull(df_nts[\"price\"])] = df_nts[\"SKU\"].map(average_price_impute)"
   ],
   "metadata": {
    "collapsed": false,
    "pycharm": {
     "name": "#%%\n"
    }
   }
  },
  {
   "cell_type": "code",
   "execution_count": 75,
   "outputs": [],
   "source": [
    "df_nts = copy( sales )\n",
    "df_nts = df_nts.dropna()\n",
    "\n",
    "# Later ToDo where price is 0 fix it.\n",
    "df_nts = df_nts.drop(df_nts[df_nts['price'] == 0].index, axis=0)\n"
   ],
   "metadata": {
    "collapsed": false,
    "pycharm": {
     "name": "#%%\n"
    }
   }
  },
  {
   "cell_type": "code",
   "execution_count": 76,
   "outputs": [
    {
     "data": {
      "text/plain": "<Figure size 1080x360 with 1 Axes>",
      "image/png": "[encoded data removed]"
     },
     "metadata": {},
     "output_type": "display_data"
    }
   ],
   "source": [
    "# boxplot_data = df_nts[np.intersect1d(df_nts.columns, [\"price\", \"qty\"])]\n",
    "# sns.boxplot(data=boxplot_data)\n",
    "sns.set(rc = {'figure.figsize':(15,5)})\n",
    "ax = sns.boxplot(x=\"price\", y=\"Group\", data=df_nts, orient=\"h\")"
   ],
   "metadata": {
    "collapsed": false,
    "pycharm": {
     "name": "#%%\n"
    }
   }
  },
  {
   "cell_type": "code",
   "execution_count": 77,
   "outputs": [
    {
     "name": "stdout",
     "output_type": "stream",
     "text": [
      "0.19384321425310944\n"
     ]
    }
   ],
   "source": [
    "df_nts_out_floor_cap = df_nts\n",
    "df_nts_outliers = df_nts[\"price\"]\n",
    "\n",
    "df_nts_bottom = df_nts_outliers.quantile(0.10)\n",
    "df_nts_top = df_nts_outliers.quantile(0.90)\n",
    "\n",
    "df_nts_out_floor_cap = df_nts_outliers[~((df_nts_outliers < df_nts_bottom) | (df_nts_outliers > df_nts_top))]\n",
    "print((len(df_nts)-len(df_nts_out_floor_cap))/len(df_nts))"
   ],
   "metadata": {
    "collapsed": false,
    "pycharm": {
     "name": "#%%\n"
    }
   }
  },
  {
   "cell_type": "code",
   "execution_count": 78,
   "outputs": [
    {
     "name": "stdout",
     "output_type": "stream",
     "text": [
      "The lower IQR is: -32.50999999999999\n",
      "11.559821064637122\n"
     ]
    },
    {
     "data": {
      "text/plain": "count    777711.000000\nmean         67.547508\nstd          85.645251\nmin           0.090000\n25%          24.190000\n50%          38.790000\n75%          61.990000\nmax        7246.890000\nName: price, dtype: float64"
     },
     "execution_count": 78,
     "metadata": {},
     "output_type": "execute_result"
    }
   ],
   "source": [
    "df_nts_out_IQR = df_nts\n",
    "df_nts_outliers = df_nts[\"price\"]\n",
    "\n",
    "Q1 = df_nts_outliers.quantile(0.25)\n",
    "Q3 = df_nts_outliers.quantile(0.75)\n",
    "IQR = Q3 - Q1\n",
    "\n",
    "print(f'The lower IQR is: {Q1 - 1.5 * IQR}')\n",
    "# lower IQR is negative, and the lower bound of price is €0.09. We will not adjust this as it is reasonable given the products.\n",
    "\n",
    "df_nts_out_IQR = df_nts_outliers[(df_nts_outliers < (Q3 + 1.5 * IQR))]\n",
    "print((len(df_nts)-len(df_nts_out_IQR))*100/len(df_nts))\n",
    "df_nts_outliers.describe()\n",
    "# 11.6% data being dropped with 1.5*IQR outlier drop method."
   ],
   "metadata": {
    "collapsed": false,
    "pycharm": {
     "name": "#%%\n"
    }
   }
  },
  {
   "cell_type": "code",
   "execution_count": 79,
   "outputs": [
    {
     "data": {
      "text/plain": "<Figure size 1080x360 with 1 Axes>",
      "image/png": "[encoded data removed]"
     },
     "metadata": {},
     "output_type": "display_data"
    }
   ],
   "source": [
    "ax = sns.boxplot(x=\"price\", y=\"Group\", data=df_nts.loc[df_nts_out_floor_cap.index, :], orient=\"h\").set(title='10% Floor and Cap Outliers')"
   ],
   "metadata": {
    "collapsed": false,
    "pycharm": {
     "name": "#%%\n"
    }
   }
  },
  {
   "cell_type": "code",
   "execution_count": 80,
   "outputs": [
    {
     "data": {
      "text/plain": "                 SKU     geoCluster          price            qty\ncount  687809.000000  687809.000000  687809.000000  687809.000000\nmean   316301.388877    2229.782924      39.577727       3.977670\nstd    299283.237084     268.399299      21.236998       4.785672\nmin        24.000000      92.000000       0.090000       0.001000\n25%     32546.000000    2041.000000      21.390000       2.000000\n50%    219149.000000    2131.000000      36.690000       3.000000\n75%    596031.000000    2279.000000      49.790000       5.000000\nmax    838137.000000    3230.000000     118.590000     801.000000",
      "text/html": "<div>\n<style scoped>\n    .dataframe tbody tr th:only-of-type {\n        vertical-align: middle;\n    }\n\n    .dataframe tbody tr th {\n        vertical-align: top;\n    }\n\n    .dataframe thead th {\n        text-align: right;\n    }\n</style>\n<table border=\"1\" class=\"dataframe\">\n  <thead>\n    <tr style=\"text-align: right;\">\n      <th></th>\n      <th>SKU</th>\n      <th>geoCluster</th>\n      <th>price</th>\n      <th>qty</th>\n    </tr>\n  </thead>\n  <tbody>\n    <tr>\n      <th>count</th>\n      <td>687809.000000</td>\n      <td>687809.000000</td>\n      <td>687809.000000</td>\n      <td>687809.000000</td>\n    </tr>\n    <tr>\n      <th>mean</th>\n      <td>316301.388877</td>\n      <td>2229.782924</td>\n      <td>39.577727</td>\n      <td>3.977670</td>\n    </tr>\n    <tr>\n      <th>std</th>\n      <td>299283.237084</td>\n      <td>268.399299</td>\n      <td>21.236998</td>\n      <td>4.785672</td>\n    </tr>\n    <tr>\n      <th>min</th>\n      <td>24.000000</td>\n      <td>92.000000</td>\n      <td>0.090000</td>\n      <td>0.001000</td>\n    </tr>\n    <tr>\n      <th>25%</th>\n      <td>32546.000000</td>\n      <td>2041.000000</td>\n      <td>21.390000</td>\n      <td>2.000000</td>\n    </tr>\n    <tr>\n      <th>50%</th>\n      <td>219149.000000</td>\n      <td>2131.000000</td>\n      <td>36.690000</td>\n      <td>3.000000</td>\n    </tr>\n    <tr>\n      <th>75%</th>\n      <td>596031.000000</td>\n      <td>2279.000000</td>\n      <td>49.790000</td>\n      <td>5.000000</td>\n    </tr>\n    <tr>\n      <th>max</th>\n      <td>838137.000000</td>\n      <td>3230.000000</td>\n      <td>118.590000</td>\n      <td>801.000000</td>\n    </tr>\n  </tbody>\n</table>\n</div>"
     },
     "execution_count": 80,
     "metadata": {},
     "output_type": "execute_result"
    }
   ],
   "source": [
    "# new values of data after outliers removal and cleaning\n",
    "df_nts.loc[df_nts_out_IQR.index, :].describe()"
   ],
   "metadata": {
    "collapsed": false,
    "pycharm": {
     "name": "#%%\n"
    }
   }
  },
  {
   "cell_type": "code",
   "execution_count": 81,
   "outputs": [
    {
     "data": {
      "text/plain": "                 SKU     geoCluster          price            qty\ncount  777711.000000  777711.000000  777711.000000  777711.000000\nmean   317536.134199    2230.152414      67.547508       3.594929\nstd    295439.526654     268.915895      85.645251       4.628539\nmin        24.000000      92.000000       0.090000       0.001000\n25%     32546.000000    2041.000000      24.190000       1.000000\n50%    219149.000000    2129.000000      38.790000       2.500000\n75%    591899.000000    2279.000000      61.990000       4.000000\nmax    838137.000000    3230.000000    7246.890000     801.000000",
      "text/html": "<div>\n<style scoped>\n    .dataframe tbody tr th:only-of-type {\n        vertical-align: middle;\n    }\n\n    .dataframe tbody tr th {\n        vertical-align: top;\n    }\n\n    .dataframe thead th {\n        text-align: right;\n    }\n</style>\n<table border=\"1\" class=\"dataframe\">\n  <thead>\n    <tr style=\"text-align: right;\">\n      <th></th>\n      <th>SKU</th>\n      <th>geoCluster</th>\n      <th>price</th>\n      <th>qty</th>\n    </tr>\n  </thead>\n  <tbody>\n    <tr>\n      <th>count</th>\n      <td>777711.000000</td>\n      <td>777711.000000</td>\n      <td>777711.000000</td>\n      <td>777711.000000</td>\n    </tr>\n    <tr>\n      <th>mean</th>\n      <td>317536.134199</td>\n      <td>2230.152414</td>\n      <td>67.547508</td>\n      <td>3.594929</td>\n    </tr>\n    <tr>\n      <th>std</th>\n      <td>295439.526654</td>\n      <td>268.915895</td>\n      <td>85.645251</td>\n      <td>4.628539</td>\n    </tr>\n    <tr>\n      <th>min</th>\n      <td>24.000000</td>\n      <td>92.000000</td>\n      <td>0.090000</td>\n      <td>0.001000</td>\n    </tr>\n    <tr>\n      <th>25%</th>\n      <td>32546.000000</td>\n      <td>2041.000000</td>\n      <td>24.190000</td>\n      <td>1.000000</td>\n    </tr>\n    <tr>\n      <th>50%</th>\n      <td>219149.000000</td>\n      <td>2129.000000</td>\n      <td>38.790000</td>\n      <td>2.500000</td>\n    </tr>\n    <tr>\n      <th>75%</th>\n      <td>591899.000000</td>\n      <td>2279.000000</td>\n      <td>61.990000</td>\n      <td>4.000000</td>\n    </tr>\n    <tr>\n      <th>max</th>\n      <td>838137.000000</td>\n      <td>3230.000000</td>\n      <td>7246.890000</td>\n      <td>801.000000</td>\n    </tr>\n  </tbody>\n</table>\n</div>"
     },
     "execution_count": 81,
     "metadata": {},
     "output_type": "execute_result"
    }
   ],
   "source": [
    "# previous values of data before outliers removal and cleaning (for comparison)\n",
    "df_nts.describe()"
   ],
   "metadata": {
    "collapsed": false,
    "pycharm": {
     "name": "#%%\n"
    }
   }
  },
  {
   "cell_type": "code",
   "execution_count": 82,
   "outputs": [
    {
     "data": {
      "text/plain": "               date    SKU                   Category  geoCluster  \\\n782      2020-04-04  32485                     Banana        2154   \n795      2020-04-04  32485                     Banana        2134   \n802      2020-04-04  32485                     Banana        2481   \n840      2020-04-04  32485                     Banana        2143   \n858      2020-04-04  32485                     Banana        2746   \n...             ...    ...                        ...         ...   \n4583056  2021-07-04  16649               Water, still        2001   \n4593780  2021-07-05  16649               Water, still        2021   \n4593942  2021-07-05  16649               Water, still        2001   \n4594175  2021-07-05  39465  Water, slightly sparkling        2086   \n4594339  2021-07-05  16649               Water, still        2033   \n\n                   Group  price     qty  \n782      Tropical fruits  39.79   78.22  \n795      Tropical fruits  39.79   64.35  \n802      Tropical fruits  36.99   65.35  \n840      Tropical fruits  39.79   53.48  \n858      Tropical fruits  40.69  142.57  \n...                  ...    ...     ...  \n4583056    Mineral water  17.39   88.00  \n4593780    Mineral water  17.39  106.00  \n4593942    Mineral water  17.39   51.00  \n4594175    Mineral water  17.39   61.00  \n4594339    Mineral water  17.39   63.00  \n\n[626 rows x 7 columns]",
      "text/html": "<div>\n<style scoped>\n    .dataframe tbody tr th:only-of-type {\n        vertical-align: middle;\n    }\n\n    .dataframe tbody tr th {\n        vertical-align: top;\n    }\n\n    .dataframe thead th {\n        text-align: right;\n    }\n</style>\n<table border=\"1\" class=\"dataframe\">\n  <thead>\n    <tr style=\"text-align: right;\">\n      <th></th>\n      <th>date</th>\n      <th>SKU</th>\n      <th>Category</th>\n      <th>geoCluster</th>\n      <th>Group</th>\n      <th>price</th>\n      <th>qty</th>\n    </tr>\n  </thead>\n  <tbody>\n    <tr>\n      <th>782</th>\n      <td>2020-04-04</td>\n      <td>32485</td>\n      <td>Banana</td>\n      <td>2154</td>\n      <td>Tropical fruits</td>\n      <td>39.79</td>\n      <td>78.22</td>\n    </tr>\n    <tr>\n      <th>795</th>\n      <td>2020-04-04</td>\n      <td>32485</td>\n      <td>Banana</td>\n      <td>2134</td>\n      <td>Tropical fruits</td>\n      <td>39.79</td>\n      <td>64.35</td>\n    </tr>\n    <tr>\n      <th>802</th>\n      <td>2020-04-04</td>\n      <td>32485</td>\n      <td>Banana</td>\n      <td>2481</td>\n      <td>Tropical fruits</td>\n      <td>36.99</td>\n      <td>65.35</td>\n    </tr>\n    <tr>\n      <th>840</th>\n      <td>2020-04-04</td>\n      <td>32485</td>\n      <td>Banana</td>\n      <td>2143</td>\n      <td>Tropical fruits</td>\n      <td>39.79</td>\n      <td>53.48</td>\n    </tr>\n    <tr>\n      <th>858</th>\n      <td>2020-04-04</td>\n      <td>32485</td>\n      <td>Banana</td>\n      <td>2746</td>\n      <td>Tropical fruits</td>\n      <td>40.69</td>\n      <td>142.57</td>\n    </tr>\n    <tr>\n      <th>...</th>\n      <td>...</td>\n      <td>...</td>\n      <td>...</td>\n      <td>...</td>\n      <td>...</td>\n      <td>...</td>\n      <td>...</td>\n    </tr>\n    <tr>\n      <th>4583056</th>\n      <td>2021-07-04</td>\n      <td>16649</td>\n      <td>Water, still</td>\n      <td>2001</td>\n      <td>Mineral water</td>\n      <td>17.39</td>\n      <td>88.00</td>\n    </tr>\n    <tr>\n      <th>4593780</th>\n      <td>2021-07-05</td>\n      <td>16649</td>\n      <td>Water, still</td>\n      <td>2021</td>\n      <td>Mineral water</td>\n      <td>17.39</td>\n      <td>106.00</td>\n    </tr>\n    <tr>\n      <th>4593942</th>\n      <td>2021-07-05</td>\n      <td>16649</td>\n      <td>Water, still</td>\n      <td>2001</td>\n      <td>Mineral water</td>\n      <td>17.39</td>\n      <td>51.00</td>\n    </tr>\n    <tr>\n      <th>4594175</th>\n      <td>2021-07-05</td>\n      <td>39465</td>\n      <td>Water, slightly sparkling</td>\n      <td>2086</td>\n      <td>Mineral water</td>\n      <td>17.39</td>\n      <td>61.00</td>\n    </tr>\n    <tr>\n      <th>4594339</th>\n      <td>2021-07-05</td>\n      <td>16649</td>\n      <td>Water, still</td>\n      <td>2033</td>\n      <td>Mineral water</td>\n      <td>17.39</td>\n      <td>63.00</td>\n    </tr>\n  </tbody>\n</table>\n<p>626 rows × 7 columns</p>\n</div>"
     },
     "execution_count": 82,
     "metadata": {},
     "output_type": "execute_result"
    }
   ],
   "source": [
    "df_nts[df_nts[\"qty\"]>50]\n"
   ],
   "metadata": {
    "collapsed": false,
    "pycharm": {
     "name": "#%%\n"
    }
   }
  },
  {
   "cell_type": "code",
   "execution_count": 83,
   "outputs": [],
   "source": [
    "\n",
    "df_nts = df_nts.loc[df_nts_out_IQR.index, :]\n",
    "df_nts.to_csv(\"../data/processed/nts_imputed_v3.csv\", index=False)"
   ],
   "metadata": {
    "collapsed": false,
    "pycharm": {
     "name": "#%%\n"
    }
   }
  },
  {
   "cell_type": "code",
   "execution_count": 84,
   "outputs": [],
   "source": [
    "# ---------- Testing ----------\n",
    "# df_temp = df_nts[df_nts[\"price\"] == 0]\n",
    "# df_temp.to_csv(\"temp.csv\", index=False)\n",
    "#df_nts.describe(include='all')"
   ],
   "metadata": {
    "collapsed": false,
    "pycharm": {
     "name": "#%%\n"
    }
   }
  }
 ],
 "metadata": {
  "kernelspec": {
   "display_name": "Python 3 (ipykernel)",
   "language": "python",
   "name": "python3"
  },
  "language_info": {
   "codemirror_mode": {
    "name": "ipython",
    "version": 3
   },
   "file_extension": ".py",
   "mimetype": "text/x-python",
   "name": "python",
   "nbconvert_exporter": "python",
   "pygments_lexer": "ipython3",
   "version": "3.9.7"
  }
 },
 "nbformat": 4,
 "nbformat_minor": 1
}