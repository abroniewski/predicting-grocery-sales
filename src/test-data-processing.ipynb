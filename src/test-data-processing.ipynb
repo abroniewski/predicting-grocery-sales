{
 "cells": [
  {
   "cell_type": "markdown",
   "metadata": {
    "pycharm": {
     "name": "#%% md\n"
    }
   },
   "source": [
    "# Creating Data Subsets\n",
    "Here we will create subsets of data that can be passed into a multivariate time series regression"
   ]
  },
  {
   "cell_type": "code",
   "execution_count": 8,
   "outputs": [],
   "source": [
    "import warnings\n",
    "warnings.simplefilter(action='ignore', category=FutureWarning)\n",
    "import pandas as pd\n",
    "from tqdm import tqdm\n",
    "import json\n",
    "import numpy as np\n",
    "from copy import copy\n",
    "import seaborn as sns\n",
    "import matplotlib.pyplot as plt\n",
    "from scipy import stats"
   ],
   "metadata": {
    "collapsed": false,
    "pycharm": {
     "name": "#%%\n"
    }
   }
  },
  {
   "cell_type": "code",
   "execution_count": 9,
   "outputs": [],
   "source": [
    "sales = pd.read_csv(\"../data/raw/test.csv\", header=0, delimiter=\",\")\n",
    "sku = pd.read_csv(\"../data/raw/sku.csv\", header=0, delimiter=\",\")\n",
    "geoParams = pd.read_csv(\"../data/raw/geo_params.csv\", header=0, delimiter=\",\")"
   ],
   "metadata": {
    "collapsed": false,
    "pycharm": {
     "name": "#%%\n"
    }
   }
  },
  {
   "cell_type": "markdown",
   "source": [
    "Merge the geo_params and sales data files. A different subset will be generated for each item (SKU) for every geographic cluster location. The data will be stored in a dictionary with:\n",
    "- key: `geoCluster_ID` and `SKU`\n",
    "- value: list of `date`, `price`, and `sales`\n",
    "\n",
    "The dictionary will be written to a json file for convenience."
   ],
   "metadata": {
    "collapsed": false,
    "pycharm": {
     "name": "#%% md\n"
    }
   }
  },
  {
   "cell_type": "markdown",
   "source": [
    "### Pre-process sku file"
   ],
   "metadata": {
    "collapsed": false,
    "pycharm": {
     "name": "#%% md\n"
    }
   }
  },
  {
   "cell_type": "code",
   "execution_count": 10,
   "outputs": [
    {
     "data": {
      "text/plain": "Index(['SKU', 'Category', 'Type', 'brandId', 'lagerUnitQuantity', 'Units',\n       'trademark', 'countryOfOrigin', 'Group'],\n      dtype='object')"
     },
     "execution_count": 10,
     "metadata": {},
     "output_type": "execute_result"
    }
   ],
   "source": [
    "sku.keys()"
   ],
   "metadata": {
    "collapsed": false,
    "pycharm": {
     "name": "#%%\n"
    }
   }
  },
  {
   "cell_type": "code",
   "execution_count": 11,
   "outputs": [],
   "source": [
    "sku.loc[sku['SKU'].isin( [612845, 782787, 802382, 819149, 819150] ), \"Category\"] = \"Yoghurts\""
   ],
   "metadata": {
    "collapsed": false,
    "pycharm": {
     "name": "#%%\n"
    }
   }
  },
  {
   "cell_type": "code",
   "execution_count": 12,
   "outputs": [],
   "source": [
    "# Join datasets\n",
    "sales.sort_values(\"date\", inplace=True)\n",
    "sales = sales.join(geoParams.set_index(\"geoCluster\"),on=\"geoCluster\", rsuffix=\"gC\")\n",
    "sales = pd.merge(sales, sku, how='left', on='SKU')"
   ],
   "metadata": {
    "collapsed": false,
    "pycharm": {
     "name": "#%%\n"
    }
   }
  },
  {
   "cell_type": "markdown",
   "source": [
    "#### Clean Dataset"
   ],
   "metadata": {
    "collapsed": false,
    "pycharm": {
     "name": "#%% md\n"
    }
   }
  },
  {
   "cell_type": "code",
   "execution_count": 13,
   "outputs": [],
   "source": [
    "sales[\"qty\"] = sales.sales\n",
    "sales = sales.drop(labels='sales', axis='columns')"
   ],
   "metadata": {
    "collapsed": false,
    "pycharm": {
     "name": "#%%\n"
    }
   }
  },
  {
   "cell_type": "code",
   "execution_count": 14,
   "outputs": [],
   "source": [
    "sales = sales[[\"date\", \"SKU\", \"Category\", \"geoCluster\", \"Group\", \"price_filled\", \"qty\"]]"
   ],
   "metadata": {
    "collapsed": false,
    "pycharm": {
     "name": "#%%\n"
    }
   }
  },
  {
   "cell_type": "markdown",
   "source": [
    "### Dataset v1 - Non timeseries "
   ],
   "metadata": {
    "collapsed": false,
    "pycharm": {
     "name": "#%% md\n"
    }
   }
  },
  {
   "cell_type": "code",
   "execution_count": 15,
   "outputs": [],
   "source": [
    "def percentage_of_criterion_in_ds(list_of_indexes, df):\n",
    "    \"\"\" Return the percentage the list_of_indexes has compared to the entire df's length\n",
    "    \"\"\"\n",
    "    percentage = 100 * sum(list_of_indexes) / len(df)\n",
    "    return percentage"
   ],
   "metadata": {
    "collapsed": false,
    "pycharm": {
     "name": "#%%\n"
    }
   }
  },
  {
   "cell_type": "code",
   "execution_count": 19,
   "outputs": [
    {
     "data": {
      "text/plain": "                 SKU     geoCluster   price_filled  qty\ncount  202737.000000  202737.000000  202737.000000  0.0\nmean   367044.202449    2244.779517      79.675751  NaN\nstd    300460.823849     359.694670      98.742848  NaN\nmin        24.000000      21.000000       0.000000  NaN\n25%     39465.000000    2052.000000      23.690000  NaN\n50%    363713.000000    2184.000000      39.690000  NaN\n75%    642700.000000    2310.000000      68.090000  NaN\nmax    838137.000000    3230.000000     424.690000  NaN",
      "text/html": "<div>\n<style scoped>\n    .dataframe tbody tr th:only-of-type {\n        vertical-align: middle;\n    }\n\n    .dataframe tbody tr th {\n        vertical-align: top;\n    }\n\n    .dataframe thead th {\n        text-align: right;\n    }\n</style>\n<table border=\"1\" class=\"dataframe\">\n  <thead>\n    <tr style=\"text-align: right;\">\n      <th></th>\n      <th>SKU</th>\n      <th>geoCluster</th>\n      <th>price_filled</th>\n      <th>qty</th>\n    </tr>\n  </thead>\n  <tbody>\n    <tr>\n      <th>count</th>\n      <td>202737.000000</td>\n      <td>202737.000000</td>\n      <td>202737.000000</td>\n      <td>0.0</td>\n    </tr>\n    <tr>\n      <th>mean</th>\n      <td>367044.202449</td>\n      <td>2244.779517</td>\n      <td>79.675751</td>\n      <td>NaN</td>\n    </tr>\n    <tr>\n      <th>std</th>\n      <td>300460.823849</td>\n      <td>359.694670</td>\n      <td>98.742848</td>\n      <td>NaN</td>\n    </tr>\n    <tr>\n      <th>min</th>\n      <td>24.000000</td>\n      <td>21.000000</td>\n      <td>0.000000</td>\n      <td>NaN</td>\n    </tr>\n    <tr>\n      <th>25%</th>\n      <td>39465.000000</td>\n      <td>2052.000000</td>\n      <td>23.690000</td>\n      <td>NaN</td>\n    </tr>\n    <tr>\n      <th>50%</th>\n      <td>363713.000000</td>\n      <td>2184.000000</td>\n      <td>39.690000</td>\n      <td>NaN</td>\n    </tr>\n    <tr>\n      <th>75%</th>\n      <td>642700.000000</td>\n      <td>2310.000000</td>\n      <td>68.090000</td>\n      <td>NaN</td>\n    </tr>\n    <tr>\n      <th>max</th>\n      <td>838137.000000</td>\n      <td>3230.000000</td>\n      <td>424.690000</td>\n      <td>NaN</td>\n    </tr>\n  </tbody>\n</table>\n</div>"
     },
     "execution_count": 19,
     "metadata": {},
     "output_type": "execute_result"
    }
   ],
   "source": [
    "## Exploratory Data Analysis\n",
    "\n",
    "# # Shows you rows where qty is 0.001\n",
    "# df_nts[df_nts[\"qty\"] == 0.001]\n",
    "\n",
    "# df_nts.describe(include='all')\n",
    "# df_nts = df_nts.drop( df_nts[df_nts[\"price_filled\"] >= 5000].index, axis=0 )\n",
    "# df_nts[df_nts[\"qty\"] == 0.001]\n",
    "# df_nts[df_nts[\"price_filled\"] < 50]\n",
    "\n",
    "# df = df_nts[df_nts[\"Group\"] == \"Cheese\"] \n",
    "\n",
    "\n",
    "# fig, axes = plt.subplots(1,2, gridspec_kw={'width_ratios': [1, 5]}, figsize=(17,6))\n",
    "# df.boxplot(column='price_filled',ax=axes[0]);\n",
    "# df.hist(column='price_filled', ax=axes[1]);\n",
    "\n",
    "sales.describe()"
   ],
   "metadata": {
    "collapsed": false,
    "pycharm": {
     "name": "#%%\n"
    }
   }
  },
  {
   "cell_type": "markdown",
   "source": [
    "# Box plots price_filled column on df"
   ],
   "metadata": {
    "collapsed": false,
    "pycharm": {
     "name": "#%% md\n"
    }
   }
  },
  {
   "cell_type": "code",
   "execution_count": 20,
   "outputs": [
    {
     "name": "stdout",
     "output_type": "stream",
     "text": [
      "Percentage of price_filled == 0 is 0.7453005618116082\n"
     ]
    }
   ],
   "source": [
    "df_nts = copy( sales )\n",
    "\n",
    "# Later ToDo where price_filled is 0 fix it.\n",
    "print(f\"Percentage of price_filled == 0 is {percentage_of_criterion_in_ds(df_nts['price_filled'] == 0, df_nts)}\")\n",
    "# drop it\n",
    "df_nts = df_nts.drop(df_nts[df_nts['price_filled'] == 0].index, axis=0)\n"
   ],
   "metadata": {
    "collapsed": false,
    "pycharm": {
     "name": "#%%\n"
    }
   }
  },
  {
   "cell_type": "code",
   "execution_count": 21,
   "outputs": [
    {
     "data": {
      "text/plain": "              date            SKU  Category     geoCluster   Group  \\\ncount       201226  201226.000000    201226  201226.000000  201226   \nunique          14            NaN        39            NaN       5   \ntop     2021-07-19            NaN  Yoghurts            NaN  Bakery   \nfreq         14479            NaN     27390            NaN   52118   \nmean           NaN  365901.280416       NaN    2244.783547     NaN   \nstd            NaN  300512.456851       NaN     360.057697     NaN   \nmin            NaN      24.000000       NaN      21.000000     NaN   \n25%            NaN   39465.000000       NaN    2052.000000     NaN   \n50%            NaN  363713.000000       NaN    2185.000000     NaN   \n75%            NaN  642700.000000       NaN    2310.000000     NaN   \nmax            NaN  838137.000000       NaN    3230.000000     NaN   \n\n         price_filled  qty  \ncount   201226.000000  0.0  \nunique            NaN  NaN  \ntop               NaN  NaN  \nfreq              NaN  NaN  \nmean        80.274034  NaN  \nstd         98.870304  NaN  \nmin          4.990000  NaN  \n25%         24.190000  NaN  \n50%         39.790000  NaN  \n75%         68.190000  NaN  \nmax        424.690000  NaN  ",
      "text/html": "<div>\n<style scoped>\n    .dataframe tbody tr th:only-of-type {\n        vertical-align: middle;\n    }\n\n    .dataframe tbody tr th {\n        vertical-align: top;\n    }\n\n    .dataframe thead th {\n        text-align: right;\n    }\n</style>\n<table border=\"1\" class=\"dataframe\">\n  <thead>\n    <tr style=\"text-align: right;\">\n      <th></th>\n      <th>date</th>\n      <th>SKU</th>\n      <th>Category</th>\n      <th>geoCluster</th>\n      <th>Group</th>\n      <th>price_filled</th>\n      <th>qty</th>\n    </tr>\n  </thead>\n  <tbody>\n    <tr>\n      <th>count</th>\n      <td>201226</td>\n      <td>201226.000000</td>\n      <td>201226</td>\n      <td>201226.000000</td>\n      <td>201226</td>\n      <td>201226.000000</td>\n      <td>0.0</td>\n    </tr>\n    <tr>\n      <th>unique</th>\n      <td>14</td>\n      <td>NaN</td>\n      <td>39</td>\n      <td>NaN</td>\n      <td>5</td>\n      <td>NaN</td>\n      <td>NaN</td>\n    </tr>\n    <tr>\n      <th>top</th>\n      <td>2021-07-19</td>\n      <td>NaN</td>\n      <td>Yoghurts</td>\n      <td>NaN</td>\n      <td>Bakery</td>\n      <td>NaN</td>\n      <td>NaN</td>\n    </tr>\n    <tr>\n      <th>freq</th>\n      <td>14479</td>\n      <td>NaN</td>\n      <td>27390</td>\n      <td>NaN</td>\n      <td>52118</td>\n      <td>NaN</td>\n      <td>NaN</td>\n    </tr>\n    <tr>\n      <th>mean</th>\n      <td>NaN</td>\n      <td>365901.280416</td>\n      <td>NaN</td>\n      <td>2244.783547</td>\n      <td>NaN</td>\n      <td>80.274034</td>\n      <td>NaN</td>\n    </tr>\n    <tr>\n      <th>std</th>\n      <td>NaN</td>\n      <td>300512.456851</td>\n      <td>NaN</td>\n      <td>360.057697</td>\n      <td>NaN</td>\n      <td>98.870304</td>\n      <td>NaN</td>\n    </tr>\n    <tr>\n      <th>min</th>\n      <td>NaN</td>\n      <td>24.000000</td>\n      <td>NaN</td>\n      <td>21.000000</td>\n      <td>NaN</td>\n      <td>4.990000</td>\n      <td>NaN</td>\n    </tr>\n    <tr>\n      <th>25%</th>\n      <td>NaN</td>\n      <td>39465.000000</td>\n      <td>NaN</td>\n      <td>2052.000000</td>\n      <td>NaN</td>\n      <td>24.190000</td>\n      <td>NaN</td>\n    </tr>\n    <tr>\n      <th>50%</th>\n      <td>NaN</td>\n      <td>363713.000000</td>\n      <td>NaN</td>\n      <td>2185.000000</td>\n      <td>NaN</td>\n      <td>39.790000</td>\n      <td>NaN</td>\n    </tr>\n    <tr>\n      <th>75%</th>\n      <td>NaN</td>\n      <td>642700.000000</td>\n      <td>NaN</td>\n      <td>2310.000000</td>\n      <td>NaN</td>\n      <td>68.190000</td>\n      <td>NaN</td>\n    </tr>\n    <tr>\n      <th>max</th>\n      <td>NaN</td>\n      <td>838137.000000</td>\n      <td>NaN</td>\n      <td>3230.000000</td>\n      <td>NaN</td>\n      <td>424.690000</td>\n      <td>NaN</td>\n    </tr>\n  </tbody>\n</table>\n</div>"
     },
     "execution_count": 21,
     "metadata": {},
     "output_type": "execute_result"
    }
   ],
   "source": [
    "df_nts.describe(include=\"all\")"
   ],
   "metadata": {
    "collapsed": false,
    "pycharm": {
     "name": "#%%\n"
    }
   }
  },
  {
   "cell_type": "markdown",
   "source": [],
   "metadata": {
    "collapsed": false,
    "pycharm": {
     "name": "#%% md\n"
    }
   }
  },
  {
   "cell_type": "code",
   "execution_count": 22,
   "outputs": [
    {
     "data": {
      "text/plain": "<Figure size 1080x360 with 1 Axes>",
      "image/png": "[encoded data removed]"
     },
     "metadata": {},
     "output_type": "display_data"
    }
   ],
   "source": [
    "# boxplot_data = df_nts[np.intersect1d(df_nts.columns, [\"price_filled\", \"qty\"])]\n",
    "# sns.boxplot(data=boxplot_data)\n",
    "sns.set(rc = {'figure.figsize':(15,5)})\n",
    "ax = sns.boxplot(x=\"price_filled\", y=\"Group\", data=df_nts, orient=\"h\")"
   ],
   "metadata": {
    "collapsed": false,
    "pycharm": {
     "name": "#%%\n"
    }
   }
  },
  {
   "cell_type": "code",
   "execution_count": 23,
   "outputs": [
    {
     "name": "stdout",
     "output_type": "stream",
     "text": [
      "The lower IQR is: -41.81\n",
      "16.45214833073261\n"
     ]
    },
    {
     "data": {
      "text/plain": "count    201226.000000\nmean         80.274034\nstd          98.870304\nmin           4.990000\n25%          24.190000\n50%          39.790000\n75%          68.190000\nmax         424.690000\nName: price_filled, dtype: float64"
     },
     "execution_count": 23,
     "metadata": {},
     "output_type": "execute_result"
    }
   ],
   "source": [
    "df_nts_out_IQR = df_nts\n",
    "df_nts_outliers = df_nts[\"price_filled\"]\n",
    "\n",
    "Q1 = df_nts_outliers.quantile(0.25)\n",
    "Q3 = df_nts_outliers.quantile(0.75)\n",
    "IQR = Q3 - Q1\n",
    "\n",
    "print(f'The lower IQR is: {Q1 - 1.5 * IQR}')\n",
    "# lower IQR is negative, and the lower bound of price_filled is €0.09. We will not adjust this as it is reasonable given the products.\n",
    "\n",
    "df_nts_out_IQR = df_nts_outliers[(df_nts_outliers < (Q3 + 1.5 * IQR))]\n",
    "print((len(df_nts)-len(df_nts_out_IQR))*100/len(df_nts))\n",
    "df_nts_outliers.describe()\n",
    "# 11.6% data being dropped with 1.5*IQR outlier drop method."
   ],
   "metadata": {
    "collapsed": false,
    "pycharm": {
     "name": "#%%\n"
    }
   }
  },
  {
   "cell_type": "code",
   "execution_count": 24,
   "outputs": [
    {
     "name": "stdout",
     "output_type": "stream",
     "text": [
      "0.19185890491288402\n"
     ]
    }
   ],
   "source": [
    "df_nts_out_floor_cap = df_nts\n",
    "df_nts_outliers = df_nts[\"price_filled\"]\n",
    "\n",
    "df_nts_bottom = df_nts_outliers.quantile(0.10)\n",
    "df_nts_top = df_nts_outliers.quantile(0.90)\n",
    "\n",
    "df_nts_out_floor_cap = df_nts_outliers[~((df_nts_outliers < df_nts_bottom) | (df_nts_outliers > df_nts_top))]\n",
    "print((len(df_nts)-len(df_nts_out_floor_cap))/len(df_nts))"
   ],
   "metadata": {
    "collapsed": false,
    "pycharm": {
     "name": "#%%\n"
    }
   }
  },
  {
   "cell_type": "code",
   "execution_count": 25,
   "outputs": [
    {
     "data": {
      "text/plain": "<Figure size 1080x360 with 1 Axes>",
      "image/png": "[encoded data removed]"
     },
     "metadata": {},
     "output_type": "display_data"
    }
   ],
   "source": [
    "ax = sns.boxplot(x=\"price_filled\", y=\"Group\", data=df_nts.loc[df_nts_out_IQR.index, :], orient=\"h\").set(title='IQR Outliers')"
   ],
   "metadata": {
    "collapsed": false,
    "pycharm": {
     "name": "#%%\n"
    }
   }
  },
  {
   "cell_type": "code",
   "execution_count": 26,
   "outputs": [
    {
     "data": {
      "text/plain": "<Figure size 1080x360 with 1 Axes>",
      "image/png": "[encoded data removed]"
     },
     "metadata": {},
     "output_type": "display_data"
    }
   ],
   "source": [
    "ax = sns.boxplot(x=\"price_filled\", y=\"Group\", data=df_nts.loc[df_nts_out_floor_cap.index, :], orient=\"h\").set(title='10% Floor and Cap Outliers')"
   ],
   "metadata": {
    "collapsed": false,
    "pycharm": {
     "name": "#%%\n"
    }
   }
  },
  {
   "cell_type": "code",
   "execution_count": 28,
   "outputs": [
    {
     "data": {
      "text/plain": "                 SKU     geoCluster  price_filled  qty\ncount  168120.000000  168120.000000  168120.00000  0.0\nmean   375850.660153    2240.662848      39.64242  NaN\nstd    306761.890563     370.042277      22.04560  NaN\nmin        24.000000      21.000000       4.99000  NaN\n25%     39465.000000    2052.000000      21.39000  NaN\n50%    363713.000000    2185.000000      35.59000  NaN\n75%    666058.000000    2310.000000      52.59000  NaN\nmax    838137.000000    3230.000000     133.59000  NaN",
      "text/html": "<div>\n<style scoped>\n    .dataframe tbody tr th:only-of-type {\n        vertical-align: middle;\n    }\n\n    .dataframe tbody tr th {\n        vertical-align: top;\n    }\n\n    .dataframe thead th {\n        text-align: right;\n    }\n</style>\n<table border=\"1\" class=\"dataframe\">\n  <thead>\n    <tr style=\"text-align: right;\">\n      <th></th>\n      <th>SKU</th>\n      <th>geoCluster</th>\n      <th>price_filled</th>\n      <th>qty</th>\n    </tr>\n  </thead>\n  <tbody>\n    <tr>\n      <th>count</th>\n      <td>168120.000000</td>\n      <td>168120.000000</td>\n      <td>168120.00000</td>\n      <td>0.0</td>\n    </tr>\n    <tr>\n      <th>mean</th>\n      <td>375850.660153</td>\n      <td>2240.662848</td>\n      <td>39.64242</td>\n      <td>NaN</td>\n    </tr>\n    <tr>\n      <th>std</th>\n      <td>306761.890563</td>\n      <td>370.042277</td>\n      <td>22.04560</td>\n      <td>NaN</td>\n    </tr>\n    <tr>\n      <th>min</th>\n      <td>24.000000</td>\n      <td>21.000000</td>\n      <td>4.99000</td>\n      <td>NaN</td>\n    </tr>\n    <tr>\n      <th>25%</th>\n      <td>39465.000000</td>\n      <td>2052.000000</td>\n      <td>21.39000</td>\n      <td>NaN</td>\n    </tr>\n    <tr>\n      <th>50%</th>\n      <td>363713.000000</td>\n      <td>2185.000000</td>\n      <td>35.59000</td>\n      <td>NaN</td>\n    </tr>\n    <tr>\n      <th>75%</th>\n      <td>666058.000000</td>\n      <td>2310.000000</td>\n      <td>52.59000</td>\n      <td>NaN</td>\n    </tr>\n    <tr>\n      <th>max</th>\n      <td>838137.000000</td>\n      <td>3230.000000</td>\n      <td>133.59000</td>\n      <td>NaN</td>\n    </tr>\n  </tbody>\n</table>\n</div>"
     },
     "execution_count": 28,
     "metadata": {},
     "output_type": "execute_result"
    }
   ],
   "source": [
    "# new values of data after outliers removal and cleaning\n",
    "df_nts.loc[df_nts_out_IQR.index, :].describe()"
   ],
   "metadata": {
    "collapsed": false,
    "pycharm": {
     "name": "#%%\n"
    }
   }
  },
  {
   "cell_type": "code",
   "execution_count": 29,
   "outputs": [
    {
     "data": {
      "text/plain": "                 SKU     geoCluster   price_filled  qty\ncount  201226.000000  201226.000000  201226.000000  0.0\nmean   365901.280416    2244.783547      80.274034  NaN\nstd    300512.456851     360.057697      98.870304  NaN\nmin        24.000000      21.000000       4.990000  NaN\n25%     39465.000000    2052.000000      24.190000  NaN\n50%    363713.000000    2185.000000      39.790000  NaN\n75%    642700.000000    2310.000000      68.190000  NaN\nmax    838137.000000    3230.000000     424.690000  NaN",
      "text/html": "<div>\n<style scoped>\n    .dataframe tbody tr th:only-of-type {\n        vertical-align: middle;\n    }\n\n    .dataframe tbody tr th {\n        vertical-align: top;\n    }\n\n    .dataframe thead th {\n        text-align: right;\n    }\n</style>\n<table border=\"1\" class=\"dataframe\">\n  <thead>\n    <tr style=\"text-align: right;\">\n      <th></th>\n      <th>SKU</th>\n      <th>geoCluster</th>\n      <th>price_filled</th>\n      <th>qty</th>\n    </tr>\n  </thead>\n  <tbody>\n    <tr>\n      <th>count</th>\n      <td>201226.000000</td>\n      <td>201226.000000</td>\n      <td>201226.000000</td>\n      <td>0.0</td>\n    </tr>\n    <tr>\n      <th>mean</th>\n      <td>365901.280416</td>\n      <td>2244.783547</td>\n      <td>80.274034</td>\n      <td>NaN</td>\n    </tr>\n    <tr>\n      <th>std</th>\n      <td>300512.456851</td>\n      <td>360.057697</td>\n      <td>98.870304</td>\n      <td>NaN</td>\n    </tr>\n    <tr>\n      <th>min</th>\n      <td>24.000000</td>\n      <td>21.000000</td>\n      <td>4.990000</td>\n      <td>NaN</td>\n    </tr>\n    <tr>\n      <th>25%</th>\n      <td>39465.000000</td>\n      <td>2052.000000</td>\n      <td>24.190000</td>\n      <td>NaN</td>\n    </tr>\n    <tr>\n      <th>50%</th>\n      <td>363713.000000</td>\n      <td>2185.000000</td>\n      <td>39.790000</td>\n      <td>NaN</td>\n    </tr>\n    <tr>\n      <th>75%</th>\n      <td>642700.000000</td>\n      <td>2310.000000</td>\n      <td>68.190000</td>\n      <td>NaN</td>\n    </tr>\n    <tr>\n      <th>max</th>\n      <td>838137.000000</td>\n      <td>3230.000000</td>\n      <td>424.690000</td>\n      <td>NaN</td>\n    </tr>\n  </tbody>\n</table>\n</div>"
     },
     "execution_count": 29,
     "metadata": {},
     "output_type": "execute_result"
    }
   ],
   "source": [
    "# previous values of data before outliers removal and cleaning (for comparison)\n",
    "df_nts.describe()"
   ],
   "metadata": {
    "collapsed": false,
    "pycharm": {
     "name": "#%%\n"
    }
   }
  },
  {
   "cell_type": "code",
   "execution_count": 30,
   "outputs": [
    {
     "data": {
      "text/plain": "Empty DataFrame\nColumns: [date, SKU, Category, geoCluster, Group, price_filled, qty]\nIndex: []",
      "text/html": "<div>\n<style scoped>\n    .dataframe tbody tr th:only-of-type {\n        vertical-align: middle;\n    }\n\n    .dataframe tbody tr th {\n        vertical-align: top;\n    }\n\n    .dataframe thead th {\n        text-align: right;\n    }\n</style>\n<table border=\"1\" class=\"dataframe\">\n  <thead>\n    <tr style=\"text-align: right;\">\n      <th></th>\n      <th>date</th>\n      <th>SKU</th>\n      <th>Category</th>\n      <th>geoCluster</th>\n      <th>Group</th>\n      <th>price_filled</th>\n      <th>qty</th>\n    </tr>\n  </thead>\n  <tbody>\n  </tbody>\n</table>\n</div>"
     },
     "execution_count": 30,
     "metadata": {},
     "output_type": "execute_result"
    }
   ],
   "source": [
    "df_nts[df_nts[\"qty\"]>50]\n"
   ],
   "metadata": {
    "collapsed": false,
    "pycharm": {
     "name": "#%%\n"
    }
   }
  },
  {
   "cell_type": "code",
   "execution_count": 33,
   "outputs": [],
   "source": [
    "df_nts = df_nts.loc[df_nts_out_IQR.index, :]\n",
    "df_nts.to_csv(\"../data/processed/test_data_processed.csv\", index=False)"
   ],
   "metadata": {
    "collapsed": false,
    "pycharm": {
     "name": "#%%\n"
    }
   }
  },
  {
   "cell_type": "code",
   "execution_count": null,
   "outputs": [],
   "source": [
    "# ---------- Testing ----------\n",
    "# df_temp = df_nts[df_nts[\"price_filled\"] == 0]\n",
    "# df_temp.to_csv(\"temp.csv\", index=False)\n",
    "#df_nts.describe(include='all')"
   ],
   "metadata": {
    "collapsed": false,
    "pycharm": {
     "name": "#%%\n"
    }
   }
  },
  {
   "cell_type": "markdown",
   "source": [
    "### Dataset  - Time series"
   ],
   "metadata": {
    "collapsed": false,
    "pycharm": {
     "name": "#%% md\n"
    }
   }
  },
  {
   "cell_type": "markdown",
   "source": [],
   "metadata": {
    "collapsed": false,
    "pycharm": {
     "name": "#%% md\n"
    }
   }
  },
  {
   "cell_type": "code",
   "execution_count": null,
   "outputs": [],
   "source": [
    "# ToDo - requirements will be given by sergio later.\n",
    "sales"
   ],
   "metadata": {
    "collapsed": false,
    "pycharm": {
     "name": "#%%\n"
    }
   }
  },
  {
   "cell_type": "markdown",
   "source": [
    "## Depricated Code"
   ],
   "metadata": {
    "collapsed": false,
    "pycharm": {
     "name": "#%% md\n"
    }
   }
  },
  {
   "cell_type": "code",
   "execution_count": null,
   "outputs": [],
   "source": [
    "SKUset = set(sales[\"SKU\"])\n",
    "salesSubsets = {}\n",
    "for geoCluster in tqdm(enumerate(geoParams[\"geoCluster\"]), total=len(geoParams[\"geoCluster\"])):\n",
    "    for sku in SKUset:\n",
    "        salesSKU = sales[sales[\"SKU\"]==sku]\n",
    "        salesSKUgeoCluster = salesSKU[salesSKU[\"geoCluster\"]==geoCluster[1]]\n",
    "        key = f'{geoCluster[1]}_{sku}'\n",
    "        salesSubsets[key] = salesSKUgeoCluster[[\"date\", \"price_filled\", \"sales\"]].values.tolist()"
   ],
   "metadata": {
    "collapsed": false,
    "pycharm": {
     "name": "#%%\n"
    }
   }
  },
  {
   "cell_type": "code",
   "execution_count": null,
   "outputs": [],
   "source": [
    "salesSubsets_csv = \"../data/processed/sales_subsets.csv\"\n",
    "try:\n",
    "    with open(salesSubsets_csv, 'w') as file:\n",
    "        json.dump(salesSubsets, file)\n",
    "\n",
    "except IOError:\n",
    "    print(\"I/O error\")"
   ],
   "metadata": {
    "collapsed": false,
    "pycharm": {
     "name": "#%%\n"
    }
   }
  },
  {
   "cell_type": "markdown",
   "source": [
    "# Reload processed subsets"
   ],
   "metadata": {
    "collapsed": false,
    "pycharm": {
     "name": "#%% md\n"
    }
   }
  },
  {
   "cell_type": "code",
   "execution_count": null,
   "outputs": [],
   "source": [
    "with open(salesSubsets_csv) as file:\n",
    "    salesSubsets = json.load(file)"
   ],
   "metadata": {
    "collapsed": false,
    "pycharm": {
     "name": "#%%\n"
    }
   }
  },
  {
   "cell_type": "code",
   "execution_count": null,
   "outputs": [],
   "source": [
    "sales = sales[[\"date\", \"SKU\", \"Category\", \"geoCluster\", \"Group\", \"price_filled\", \"qty\" ]]"
   ],
   "metadata": {
    "collapsed": false,
    "pycharm": {
     "name": "#%%\n"
    }
   }
  }
 ],
 "metadata": {
  "kernelspec": {
   "display_name": "Python 3 (ipykernel)",
   "language": "python",
   "name": "python3"
  },
  "language_info": {
   "codemirror_mode": {
    "name": "ipython",
    "version": 3
   },
   "file_extension": ".py",
   "mimetype": "text/x-python",
   "name": "python",
   "nbconvert_exporter": "python",
   "pygments_lexer": "ipython3",
   "version": "3.9.7"
  }
 },
 "nbformat": 4,
 "nbformat_minor": 1
}