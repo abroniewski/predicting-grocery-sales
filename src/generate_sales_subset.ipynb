{
 "cells": [
  {
   "cell_type": "markdown",
   "source": [
    "# Creating Data Subsets\n",
    "Here we will create subsets of data that can be passed into a multivariate time series regression"
   ],
   "metadata": {
    "collapsed": false,
    "pycharm": {
     "name": "#%% md\n"
    }
   }
  },
  {
   "cell_type": "code",
   "execution_count": 2,
   "outputs": [],
   "source": [
    "import pandas as pd\n",
    "from tqdm import tqdm\n",
    "import json"
   ],
   "metadata": {
    "collapsed": false,
    "pycharm": {
     "name": "#%%\n"
    }
   }
  },
  {
   "cell_type": "code",
   "execution_count": 3,
   "outputs": [],
   "source": [
    "sales = pd.read_csv(\"../data/raw/sales.csv\", header=0, delimiter=\",\")\n",
    "sku = pd.read_csv(\"../data/raw/sku.csv\", header=0, delimiter=\",\")\n",
    "geoParams = pd.read_csv(\"../data/raw/geo_params.csv\", header=0, delimiter=\",\")"
   ],
   "metadata": {
    "collapsed": false,
    "pycharm": {
     "name": "#%%\n"
    }
   }
  },
  {
   "cell_type": "markdown",
   "source": [
    "Merge the geo_params and sales data files. A different subset will be generated for each item (SKU) for every geographic cluster location. The data will be stored in a dictionary with:\n",
    "- key: `geoCluster_ID` and `SKU`\n",
    "- value: list of `date`, `price`, and `sales`\n",
    "\n",
    "The dictionary will be written to a json file for convenience."
   ],
   "metadata": {
    "collapsed": false,
    "pycharm": {
     "name": "#%% md\n"
    }
   }
  },
  {
   "cell_type": "code",
   "execution_count": 4,
   "outputs": [],
   "source": [
    "sales.sort_values(\"date\", inplace=True)\n",
    "sales = sales.join(geoParams.set_index(\"geoCluster\"),on=\"geoCluster\", rsuffix=\"gC\")"
   ],
   "metadata": {
    "collapsed": false,
    "pycharm": {
     "name": "#%%\n"
    }
   }
  },
  {
   "cell_type": "code",
   "execution_count": 5,
   "outputs": [
    {
     "name": "stderr",
     "output_type": "stream",
     "text": [
      "100%|██████████| 515/515 [05:29<00:00,  1.56it/s]\n"
     ]
    }
   ],
   "source": [
    "SKUset = set(sales[\"SKU\"])\n",
    "salesSubsets = {}\n",
    "for geoCluster in tqdm(enumerate(geoParams[\"geoCluster\"]), total=len(geoParams[\"geoCluster\"])):\n",
    "    for sku in SKUset:\n",
    "        salesSKU = sales[sales[\"SKU\"]==sku]\n",
    "        salesSKUgeoCluster = salesSKU[salesSKU[\"geoCluster\"]==geoCluster[1]]\n",
    "        key = f'{geoCluster[1]}_{sku}'\n",
    "        salesSubsets[key] = salesSKUgeoCluster[[\"date\", \"price\", \"sales\"]].values.tolist()"
   ],
   "metadata": {
    "collapsed": false,
    "pycharm": {
     "name": "#%%\n"
    }
   }
  },
  {
   "cell_type": "code",
   "execution_count": null,
   "outputs": [],
   "source": [
    "salesSubsets_csv = \"../data/processed/sales_subsets.csv\"\n",
    "try:\n",
    "    with open(salesSubsets_csv, 'w') as file:\n",
    "        json.dump(salesSubsets, file)\n",
    "\n",
    "except IOError:\n",
    "    print(\"I/O error\")"
   ],
   "metadata": {
    "collapsed": false,
    "pycharm": {
     "name": "#%%\n"
    }
   }
  },
  {
   "cell_type": "markdown",
   "source": [
    "# Reload processed subsets"
   ],
   "metadata": {
    "collapsed": false,
    "pycharm": {
     "name": "#%% md\n"
    }
   }
  },
  {
   "cell_type": "code",
   "execution_count": null,
   "outputs": [],
   "source": [
    "with open(salesSubsets_csv) as file:\n",
    "    salesSubsets = json.load(file)"
   ],
   "metadata": {
    "collapsed": false,
    "pycharm": {
     "name": "#%%\n"
    }
   }
  }
 ],
 "metadata": {
  "kernelspec": {
   "display_name": "Python 3",
   "language": "python",
   "name": "python3"
  },
  "language_info": {
   "codemirror_mode": {
    "name": "ipython",
    "version": 2
   },
   "file_extension": ".py",
   "mimetype": "text/x-python",
   "name": "python",
   "nbconvert_exporter": "python",
   "pygments_lexer": "ipython2",
   "version": "2.7.6"
  }
 },
 "nbformat": 4,
 "nbformat_minor": 0
}