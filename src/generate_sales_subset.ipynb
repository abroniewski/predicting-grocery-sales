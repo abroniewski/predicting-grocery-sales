{
 "cells": [
  {
   "cell_type": "markdown",
   "metadata": {
    "pycharm": {
     "name": "#%% md\n"
    }
   },
   "source": [
    "# Creating Data Subsets\n",
    "Here we will create subsets of data that can be passed into a multivariate time series regression"
   ]
  },
  {
   "cell_type": "code",
   "execution_count": 111,
   "metadata": {
    "pycharm": {
     "name": "#%%\n"
    }
   },
   "outputs": [],
   "source": [
    "import pandas as pd\n",
    "from tqdm import tqdm\n",
    "import json\n",
    "import numpy as np\n",
    "from copy import copy\n",
    "import seaborn as sns\n",
    "import matplotlib.pyplot as plt"
   ]
  },
  {
   "cell_type": "code",
   "execution_count": 46,
   "metadata": {
    "pycharm": {
     "name": "#%%\n"
    }
   },
   "outputs": [],
   "source": [
    "sales = pd.read_csv(\"../data/raw/sales.csv\", header=0, delimiter=\",\")\n",
    "sku = pd.read_csv(\"../data/raw/sku.csv\", header=0, delimiter=\",\")\n",
    "geoParams = pd.read_csv(\"../data/raw/geo_params.csv\", header=0, delimiter=\",\")"
   ]
  },
  {
   "cell_type": "markdown",
   "metadata": {
    "pycharm": {
     "name": "#%% md\n"
    }
   },
   "source": [
    "Merge the geo_params and sales data files. A different subset will be generated for each item (SKU) for every geographic cluster location. The data will be stored in a dictionary with:\n",
    "- key: `geoCluster_ID` and `SKU`\n",
    "- value: list of `date`, `price`, and `sales`\n",
    "\n",
    "The dictionary will be written to a json file for convenience."
   ]
  },
  {
   "cell_type": "markdown",
   "metadata": {},
   "source": [
    "### Pre-process sku file"
   ]
  },
  {
   "cell_type": "code",
   "execution_count": 55,
   "metadata": {},
   "outputs": [
    {
     "data": {
      "text/plain": [
       "Index(['SKU', 'Category', 'Type', 'brandId', 'lagerUnitQuantity', 'Units',\n",
       "       'trademark', 'countryOfOrigin', 'Group'],\n",
       "      dtype='object')"
      ]
     },
     "execution_count": 55,
     "metadata": {},
     "output_type": "execute_result"
    }
   ],
   "source": [
    "sku.keys()"
   ]
  },
  {
   "cell_type": "code",
   "execution_count": 79,
   "metadata": {},
   "outputs": [],
   "source": [
    "sku.loc[sku['SKU'].isin( [612845, 782787, 802382, 819149, 819150] ), \"Category\"] = \"Yoghurts\""
   ]
  },
  {
   "cell_type": "code",
   "execution_count": 81,
   "metadata": {
    "pycharm": {
     "name": "#%%\n"
    }
   },
   "outputs": [],
   "source": [
    "# Join datasets\n",
    "sales.sort_values(\"date\", inplace=True)\n",
    "sales = sales.join(geoParams.set_index(\"geoCluster\"),on=\"geoCluster\", rsuffix=\"gC\")\n",
    "sales = pd.merge(sales, sku, how='left', on='SKU')"
   ]
  },
  {
   "cell_type": "markdown",
   "metadata": {},
   "source": [
    "#### Clean Dataset"
   ]
  },
  {
   "cell_type": "code",
   "execution_count": 82,
   "metadata": {},
   "outputs": [],
   "source": [
    "sales[\"qty\"] = sales.sales\n",
    "sales = sales.drop(labels='sales', axis='columns')"
   ]
  },
  {
   "cell_type": "code",
   "execution_count": 83,
   "metadata": {},
   "outputs": [],
   "source": [
    "sales = sales[[\"date\", \"SKU\", \"Category\", \"geoCluster\", \"Group\", \"price\", \"qty\" ]]"
   ]
  },
  {
   "cell_type": "markdown",
   "metadata": {},
   "source": [
    "### Dataset v1 - Non timeseries "
   ]
  },
  {
   "cell_type": "code",
   "execution_count": 97,
   "metadata": {},
   "outputs": [],
   "source": [
    "def percentage_of_criterion_in_ds(list_of_indexes, df):\n",
    "    \"\"\" Return the percentage the list_of_indexes has compared to the entire df's length\n",
    "    \"\"\"\n",
    "    percentage = 100 * sum(list_of_indexes) / len(df)\n",
    "    return percentage"
   ]
  },
  {
   "cell_type": "code",
   "execution_count": null,
   "metadata": {},
   "outputs": [],
   "source": [
    "## Exploratory Data Analysis\n",
    "\n",
    "# # Shows you rows where qty is 0.001\n",
    "# df_nts[df_nts[\"qty\"] == 0.001]\n",
    "\n",
    "# df_nts.describe(include='all')\n",
    "# df_nts = df_nts.drop( df_nts[df_nts[\"price\"] >= 5000].index, axis=0 )\n",
    "# df_nts[df_nts[\"qty\"] == 0.001]\n",
    "# df_nts[df_nts[\"price\"] < 50]\n",
    "\n",
    "# df = df_nts[df_nts[\"Group\"] == \"Cheese\"] \n",
    "\n",
    "# # Box plots price column on df\n",
    "# fig, axes = plt.subplots(1,2, gridspec_kw={'width_ratios': [1, 5]}, figsize=(17,6))\n",
    "# df.boxplot(column='price',ax=axes[0]);\n",
    "# df.hist(column='price', ax=axes[1]);"
   ]
  },
  {
   "cell_type": "code",
   "execution_count": 129,
   "metadata": {},
   "outputs": [
    {
     "name": "stdout",
     "output_type": "stream",
     "text": [
      "Percentage of price == 0 is 0.08415064378454352\n"
     ]
    }
   ],
   "source": [
    "df_nts = copy( sales )\n",
    "df_nts = df_nts.dropna()\n",
    "\n",
    "# Later ToDo where price is 0 fix it.\n",
    "print(f\"Percentage of price == 0 is {percentage_of_criterion_in_ds(df_nts['price'] == 0, df_nts)}\")\n",
    "# drop it\n",
    "df_nts = df_nts.drop(df_nts[df_nts['price'] == 0].index, axis=0)\n",
    "\n",
    "df_nts.to_csv(\"../data/processed/nts_v1.csv\", index=False)"
   ]
  },
  {
   "cell_type": "code",
   "execution_count": 92,
   "metadata": {},
   "outputs": [],
   "source": [
    "# ---------- Testing ----------\n",
    "df_temp = df_nts[df_nts[\"price\"] == 0]\n",
    "df_temp.to_csv(\"temp.csv\", index=False)\n",
    "# df_nts.describe(include='all')"
   ]
  },
  {
   "cell_type": "markdown",
   "metadata": {},
   "source": [
    "### Dataset  - Time series"
   ]
  },
  {
   "cell_type": "code",
   "execution_count": null,
   "metadata": {},
   "outputs": [],
   "source": [
    "# ToDo - requirements will be given by sergio later.\n",
    "sales"
   ]
  },
  {
   "cell_type": "markdown",
   "metadata": {},
   "source": [
    "## Depricated Code"
   ]
  },
  {
   "cell_type": "code",
   "execution_count": 4,
   "metadata": {
    "pycharm": {
     "name": "#%%\n"
    }
   },
   "outputs": [
    {
     "name": "stderr",
     "output_type": "stream",
     "text": [
      "100%|███████████████████████████████████████████████████████████████████████████████████████████████████████████████████████████████████████████████████████| 515/515 [06:48<00:00,  1.26it/s]\n"
     ]
    }
   ],
   "source": [
    "SKUset = set(sales[\"SKU\"])\n",
    "salesSubsets = {}\n",
    "for geoCluster in tqdm(enumerate(geoParams[\"geoCluster\"]), total=len(geoParams[\"geoCluster\"])):\n",
    "    for sku in SKUset:\n",
    "        salesSKU = sales[sales[\"SKU\"]==sku]\n",
    "        salesSKUgeoCluster = salesSKU[salesSKU[\"geoCluster\"]==geoCluster[1]]\n",
    "        key = f'{geoCluster[1]}_{sku}'\n",
    "        salesSubsets[key] = salesSKUgeoCluster[[\"date\", \"price\", \"sales\"]].values.tolist()"
   ]
  },
  {
   "cell_type": "code",
   "execution_count": 5,
   "metadata": {
    "pycharm": {
     "name": "#%%\n"
    }
   },
   "outputs": [
    {
     "name": "stdout",
     "output_type": "stream",
     "text": [
      "I/O error\n"
     ]
    }
   ],
   "source": [
    "salesSubsets_csv = \"../data/processed/sales_subsets.csv\"\n",
    "try:\n",
    "    with open(salesSubsets_csv, 'w') as file:\n",
    "        json.dump(salesSubsets, file)\n",
    "\n",
    "except IOError:\n",
    "    print(\"I/O error\")"
   ]
  },
  {
   "cell_type": "markdown",
   "metadata": {
    "pycharm": {
     "name": "#%% md\n"
    }
   },
   "source": [
    "# Reload processed subsets"
   ]
  },
  {
   "cell_type": "code",
   "execution_count": null,
   "metadata": {
    "pycharm": {
     "name": "#%%\n"
    }
   },
   "outputs": [],
   "source": [
    "with open(salesSubsets_csv) as file:\n",
    "    salesSubsets = json.load(file)"
   ]
  }
 ],
 "metadata": {
  "kernelspec": {
   "display_name": "Python 3 (ipykernel)",
   "language": "python",
   "name": "python3"
  },
  "language_info": {
   "codemirror_mode": {
    "name": "ipython",
    "version": 3
   },
   "file_extension": ".py",
   "mimetype": "text/x-python",
   "name": "python",
   "nbconvert_exporter": "python",
   "pygments_lexer": "ipython3",
   "version": "3.9.7"
  }
 },
 "nbformat": 4,
 "nbformat_minor": 1
}
